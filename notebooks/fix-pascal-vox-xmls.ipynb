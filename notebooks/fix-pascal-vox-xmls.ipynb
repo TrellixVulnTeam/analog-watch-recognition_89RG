{
 "cells": [
  {
   "cell_type": "code",
   "execution_count": null,
   "metadata": {},
   "outputs": [],
   "source": [
    "from pathlib import Path"
   ]
  },
  {
   "cell_type": "code",
   "execution_count": null,
   "metadata": {},
   "outputs": [],
   "source": [
    "import xml.etree.ElementTree as ET\n",
    "from tqdm.notebook import tqdm\n",
    "for ds in [\n",
    "    Path(\"../download_data/watch-face-detection-val/Annotations/\"),\n",
    "    Path(\"../download_data/watch-face-detection-train/Annotations/\"),\n",
    "]:\n",
    "    for path in tqdm(list(ds.glob(\"*.xml\"))):\n",
    "        tree = ET.parse(path)\n",
    "        root = tree.getroot()\n",
    "        for child in root:\n",
    "            if child.tag == 'filename':\n",
    "                if \".jpg\" not in child.text:\n",
    "                    child.text = str(child.text + '.jpg')\n",
    "        tree.write(path)"
   ]
  },
  {
   "cell_type": "code",
   "execution_count": null,
   "metadata": {},
   "outputs": [],
   "source": []
  }
 ],
 "metadata": {
  "kernelspec": {
   "display_name": "Python (tf-watch-metal)",
   "language": "python",
   "name": "tf-watch-metal"
  },
  "language_info": {
   "codemirror_mode": {
    "name": "ipython",
    "version": 3
   },
   "file_extension": ".py",
   "mimetype": "text/x-python",
   "name": "python",
   "nbconvert_exporter": "python",
   "pygments_lexer": "ipython3",
   "version": "3.8.10"
  }
 },
 "nbformat": 4,
 "nbformat_minor": 1
}
