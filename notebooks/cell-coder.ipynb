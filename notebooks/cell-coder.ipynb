{
 "cells": [
  {
   "cell_type": "code",
   "execution_count": null,
   "metadata": {},
   "outputs": [],
   "source": [
    "%load_ext autoreload\n",
    "%autoreload 2\n",
    "from datetime import datetime\n",
    "from functools import partial\n",
    "from pathlib import Path\n",
    "\n",
    "import matplotlib.pyplot as plt\n",
    "import tensorflow as tf\n",
    "\n",
    "from watch_recognition.data_preprocessing import load_keypoints_data\n",
    "from watch_recognition.models import build_backbone\n",
    "from watch_recognition.reports import log_distances, run_on_image_debug, generate_report_for_keypoints\n",
    "\n",
    "plt.style.use(\"dark_background\")\n",
    "%matplotlib inline\n",
    "\n",
    "\n",
    "EPOCHS = 150\n",
    "image_size = (224, 224)"
   ]
  },
  {
   "cell_type": "code",
   "execution_count": null,
   "metadata": {
    "pycharm": {
     "name": "#%%\n"
    }
   },
   "outputs": [],
   "source": [
    "base_model = build_backbone(image_size)"
   ]
  },
  {
   "cell_type": "code",
   "execution_count": null,
   "metadata": {
    "pycharm": {
     "name": "#%%\n"
    }
   },
   "outputs": [],
   "source": [
    "# build model\n",
    "\n",
    "inputs = tf.keras.Input(shape=(*image_size, 3), )\n",
    "x = base_model(inputs)\n",
    "# x = tf.keras.layers.Dropout(0.3)(x)\n",
    "output = tf.keras.layers.Conv2D(\n",
    "    filters=4, kernel_size=1, strides=1, padding=\"same\", activation=\"sigmoid\"\n",
    ")(x)\n",
    "\n",
    "\n",
    "model = tf.keras.models.Model(\n",
    "    inputs=inputs, outputs=output\n",
    ")"
   ]
  },
  {
   "cell_type": "code",
   "execution_count": null,
   "metadata": {
    "pycharm": {
     "name": "#%%\n"
    }
   },
   "outputs": [],
   "source": [
    "model.summary()\n"
   ]
  },
  {
   "cell_type": "code",
   "execution_count": null,
   "metadata": {
    "pycharm": {
     "name": "#%%\n"
    }
   },
   "outputs": [],
   "source": [
    "model.output.shape[1:]"
   ]
  },
  {
   "cell_type": "code",
   "execution_count": null,
   "metadata": {
    "pycharm": {
     "name": "#%%\n"
    }
   },
   "outputs": [],
   "source": [
    "X, y, y_labels = load_keypoints_data(\n",
    "    Path(\"../data/watch-points/tags.csv\"),\n",
    "    model_output_shape=model.output.shape[1:],\n",
    ")\n",
    "X.shape, y.shape, y_labels.shape"
   ]
  },
  {
   "cell_type": "code",
   "execution_count": null,
   "metadata": {
    "pycharm": {
     "name": "#%%\n"
    }
   },
   "outputs": [],
   "source": [
    "X_val, y_val, y_val_labels = load_keypoints_data(\n",
    "    Path(\"../data/watch-points/tags.csv\"),\n",
    "    split='validation',\n",
    "    model_output_shape=model.output.shape[1:],\n",
    ")\n",
    "X_val.shape, y_val.shape, y_val_labels.shape"
   ]
  },
  {
   "cell_type": "code",
   "execution_count": null,
   "metadata": {
    "pycharm": {
     "name": "#%%\n"
    }
   },
   "outputs": [],
   "source": [
    "\n",
    "optimizer = tf.keras.optimizers.Adam(1e-2)\n",
    "model.compile(loss='binary_crossentropy', optimizer=optimizer)\n",
    "\n",
    "start = datetime.now()\n",
    "TYPE='keypoint'\n",
    "MODEL_NAME='efficientnetb0'\n",
    "logdir = f\"tensorboard_logs/{TYPE}/{MODEL_NAME}/run_{start.timestamp()}\"\n",
    "print(logdir)\n",
    "file_writer_distance_metrics_train = tf.summary.create_file_writer(logdir + \"/train\")\n",
    "file_writer_distance_metrics_validation = tf.summary.create_file_writer(logdir + \"/validation\")\n",
    "\n",
    "model.fit(\n",
    "    X, y,\n",
    "    epochs=EPOCHS,\n",
    "    validation_data=(X_val, y_val),\n",
    "    callbacks=[\n",
    "        tf.keras.callbacks.TensorBoard(\n",
    "            log_dir=logdir,\n",
    "            update_freq=\"epoch\",\n",
    "        ),\n",
    "        # tf.keras.callbacks.EarlyStopping(\n",
    "        #     monitor=\"val_loss\",\n",
    "        #     restore_best_weights=True,\n",
    "        #     patience=10,\n",
    "        # ),\n",
    "        tf.keras.callbacks.LambdaCallback(\n",
    "            on_epoch_end=partial(log_distances, X=X, y=y,\n",
    "                                 file_writer=file_writer_distance_metrics_train, model=model)),\n",
    "        tf.keras.callbacks.LambdaCallback(\n",
    "            on_epoch_end=partial(log_distances, X=X_val, y=y_val,\n",
    "                                 file_writer=file_writer_distance_metrics_validation, model=model)),\n",
    "    ]\n",
    ")\n",
    "elapsed = (datetime.now() - start).seconds\n",
    "print(f\"total training time: {elapsed / 60} minutes, average: {elapsed/60/EPOCHS} minutes/epoch\")"
   ]
  },
  {
   "cell_type": "code",
   "execution_count": null,
   "metadata": {
    "pycharm": {
     "name": "#%%\n"
    }
   },
   "outputs": [],
   "source": [
    "run_on_image_debug(model, X[0], y[0], show_grid=False)\n"
   ]
  },
  {
   "cell_type": "code",
   "execution_count": null,
   "metadata": {
    "pycharm": {
     "name": "#%%\n"
    }
   },
   "outputs": [],
   "source": [
    "path = Path(\"../example_data/test-image-2.jpg\")\n",
    "test_image = tf.keras.preprocessing.image.load_img(\n",
    "    path, \"rgb\", target_size=image_size, interpolation=\"bicubic\",\n",
    ")\n",
    "test_image_np = tf.keras.preprocessing.image.img_to_array(test_image)"
   ]
  },
  {
   "cell_type": "code",
   "execution_count": null,
   "metadata": {
    "pycharm": {
     "name": "#%%\n"
    }
   },
   "outputs": [],
   "source": [
    "run_on_image_debug(model, test_image_np, show_grid=False)"
   ]
  },
  {
   "cell_type": "code",
   "execution_count": null,
   "metadata": {
    "pycharm": {
     "name": "#%%\n"
    }
   },
   "outputs": [],
   "source": [
    "generate_report_for_keypoints(model, X, None, y_labels, show_top_n_errors=5)"
   ]
  },
  {
   "cell_type": "code",
   "execution_count": null,
   "metadata": {
    "pycharm": {
     "name": "#%%\n"
    }
   },
   "outputs": [],
   "source": [
    "generate_report_for_keypoints(model, X_val, None, y_val_labels, show_top_n_errors=5)"
   ]
  },
  {
   "cell_type": "code",
   "execution_count": null,
   "metadata": {
    "pycharm": {
     "name": "#%%\n"
    }
   },
   "outputs": [],
   "source": []
  }
 ],
 "metadata": {
  "kernelspec": {
   "display_name": "Python (tf-watch-metal)",
   "language": "python",
   "name": "tf-watch-metal"
  },
  "language_info": {
   "codemirror_mode": {
    "name": "ipython",
    "version": 2
   },
   "file_extension": ".py",
   "mimetype": "text/x-python",
   "name": "python",
   "nbconvert_exporter": "python",
   "pygments_lexer": "ipython2",
   "version": "2.7.6"
  }
 },
 "nbformat": 4,
 "nbformat_minor": 0
}
