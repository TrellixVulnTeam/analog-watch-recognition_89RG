{
 "cells": [
  {
   "cell_type": "code",
   "execution_count": null,
   "metadata": {},
   "outputs": [],
   "source": [
    "%load_ext autoreload\n",
    "%autoreload 2\n",
    "from datetime import datetime\n",
    "from pathlib import Path\n",
    "import matplotlib.pyplot as plt\n",
    "import tensorflow as tf\n",
    "from watch_recognition.models import build_backbone\n",
    "from watch_recognition.reports import run_on_image_debug, log_scalar_metrics\n",
    "from watch_recognition.data_preprocessing import load_keypoints_data_as_kp\n",
    "from watch_recognition.augmentations import set_shapes, process_kp_data, encode_keypoints_to_mask\n",
    "from functools import partial\n",
    "from watch_recognition.augmentations import view_image\n",
    "\n",
    "plt.style.use(\"dark_background\")\n",
    "%matplotlib inline\n",
    "\n",
    "\n",
    "ROOT_DIR = \"..\"\n",
    "EPOCHS = 30\n",
    "image_size = (224, 224)"
   ]
  },
  {
   "cell_type": "code",
   "execution_count": null,
   "metadata": {
    "pycharm": {
     "name": "#%%\n"
    }
   },
   "outputs": [],
   "source": [
    "base_model = tf.keras.applications.EfficientNetB0(\n",
    "    weights=\"imagenet\",  # Load weights pre-trained on ImageNet.\n",
    "    input_shape=(*image_size, 3),\n",
    "    include_top=False,\n",
    ")\n",
    "for layer in base_model.layers:\n",
    "    if 'project_conv' in layer.name:\n",
    "        print(layer.name, layer.output.shape)"
   ]
  },
  {
   "cell_type": "code",
   "execution_count": null,
   "metadata": {
    "pycharm": {
     "name": "#%%\n"
    }
   },
   "outputs": [],
   "source": [
    "base_model = build_backbone(image_size)\n",
    "# base_model.trainable = False\n"
   ]
  },
  {
   "cell_type": "code",
   "execution_count": null,
   "metadata": {
    "pycharm": {
     "name": "#%%\n"
    }
   },
   "outputs": [],
   "source": [
    "# build model\n",
    "\n",
    "inputs = tf.keras.Input(shape=(*image_size, 3), )\n",
    "x = base_model(inputs)\n",
    "for i in range(2):\n",
    "    x = tf.keras.layers.Conv2D(\n",
    "        filters=128, kernel_size=3, padding=\"same\", activation=None\n",
    "    )(x)\n",
    "    x = tf.keras.layers.BatchNormalization()(x)\n",
    "    x = tf.keras.layers.Activation(tf.keras.activations.swish)(x)\n",
    "\n",
    "x = tf.keras.layers.UpSampling2D()(x)\n",
    "for i in range(2):\n",
    "    x = tf.keras.layers.Conv2D(\n",
    "        filters=128, kernel_size=3, padding=\"same\", activation=None\n",
    "    )(x)\n",
    "    x = tf.keras.layers.BatchNormalization()(x)\n",
    "    x = tf.keras.layers.Activation(tf.keras.activations.swish)(x)\n",
    "# x = tf.keras.layers.Dropout(0.3)(x)\n",
    "tf.keras.layers.Flatten()\n",
    "output = tf.keras.layers.Conv2D(\n",
    "    filters=4, kernel_size=1, strides=1, padding=\"same\", activation='softmax'\n",
    ")(x)\n",
    "\n",
    "model = tf.keras.models.Model(\n",
    "    inputs=inputs, outputs=output\n",
    ")"
   ]
  },
  {
   "cell_type": "code",
   "execution_count": null,
   "metadata": {
    "pycharm": {
     "name": "#%%\n"
    }
   },
   "outputs": [],
   "source": [
    "model.summary()\n"
   ]
  },
  {
   "cell_type": "code",
   "execution_count": null,
   "metadata": {
    "pycharm": {
     "name": "#%%\n"
    }
   },
   "outputs": [],
   "source": [
    "model.output.shape[1:]"
   ]
  },
  {
   "cell_type": "code",
   "execution_count": null,
   "metadata": {
    "pycharm": {
     "name": "#%%\n"
    }
   },
   "outputs": [],
   "source": [
    "X, y, _ = load_keypoints_data_as_kp(\n",
    "    Path(\"%s/download_data/keypoints/train\" % ROOT_DIR),\n",
    ")\n",
    "X.shape, y.shape"
   ]
  },
  {
   "cell_type": "code",
   "execution_count": null,
   "metadata": {
    "pycharm": {
     "name": "#%%\n"
    }
   },
   "outputs": [],
   "source": [
    "\n",
    "encode_kp = partial(encode_keypoints_to_mask, image_size=(224, 224, 3),\n",
    "                    mask_size=(28, 28),\n",
    "                    extent=(1, 1),\n",
    "                    separate_hour_and_minute_handles=False,\n",
    "                    )\n",
    "set_shape_f = partial(set_shapes, img_shape=(224, 224, 3), target_shape=(28, 28, 1))"
   ]
  },
  {
   "cell_type": "code",
   "execution_count": null,
   "metadata": {
    "pycharm": {
     "name": "#%%\n"
    }
   },
   "outputs": [],
   "source": []
  },
  {
   "cell_type": "code",
   "execution_count": null,
   "metadata": {
    "pycharm": {
     "name": "#%%\n"
    }
   },
   "outputs": [],
   "source": [
    "\n",
    "\n",
    "from watch_recognition.augmentations import add_sample_weights\n",
    "\n",
    "dataset = tf.data.Dataset.from_tensor_slices((X, y))\n",
    "AUTOTUNE = tf.data.experimental.AUTOTUNE\n",
    "\n",
    "ds_alb = dataset.map(\n",
    "    process_kp_data,\n",
    "    num_parallel_calls=AUTOTUNE,\n",
    ")\n",
    "\n",
    "ds_alb = ds_alb.map(\n",
    "    encode_kp,\n",
    "    num_parallel_calls=AUTOTUNE\n",
    ")\n",
    "# Try changing the order to shuffle, batch, map, prefetch\n",
    "ds_alb = ds_alb\\\n",
    "    .map(set_shape_f, num_parallel_calls=AUTOTUNE)\\\n",
    "    .map(add_sample_weights)\\\n",
    "    .shuffle(8 * 32)\\\n",
    "    .batch(32)\\\n",
    "    .prefetch(AUTOTUNE)\n",
    "ds_alb\n"
   ]
  },
  {
   "cell_type": "code",
   "execution_count": null,
   "metadata": {
    "pycharm": {
     "name": "#%%\n"
    }
   },
   "outputs": [],
   "source": [
    "view_image(ds_alb)"
   ]
  },
  {
   "cell_type": "code",
   "execution_count": null,
   "metadata": {
    "pycharm": {
     "name": "#%%\n"
    }
   },
   "outputs": [],
   "source": [
    "X_val, y_val, _ = load_keypoints_data_as_kp(\n",
    "    Path(\"%s/download_data/keypoints/validation\" % ROOT_DIR),\n",
    ")\n",
    "X_val.shape, y_val.shape"
   ]
  },
  {
   "cell_type": "code",
   "execution_count": null,
   "metadata": {
    "pycharm": {
     "name": "#%%\n"
    }
   },
   "outputs": [],
   "source": [
    "dataset_val = tf.data.Dataset.from_tensor_slices((X_val, y_val))\n",
    "dataset_val = dataset_val\\\n",
    "    .map(encode_kp, num_parallel_calls=AUTOTUNE)\\\n",
    "    .map(set_shape_f, num_parallel_calls=AUTOTUNE)\\\n",
    "    .map(add_sample_weights)\\\n",
    "    .batch(X_val.shape[0])\\\n",
    "    .prefetch(AUTOTUNE)\\\n",
    "    .cache()\n",
    "dataset_val"
   ]
  },
  {
   "cell_type": "code",
   "execution_count": null,
   "metadata": {
    "pycharm": {
     "name": "#%%\n"
    }
   },
   "outputs": [],
   "source": [
    "view_image(dataset_val)\n"
   ]
  },
  {
   "cell_type": "code",
   "execution_count": null,
   "metadata": {
    "pycharm": {
     "name": "#%%\n"
    }
   },
   "outputs": [],
   "source": [
    "optimizer = tf.keras.optimizers.Adam(3e-4)\n",
    "model.compile(\n",
    "    loss=tf.keras.losses.SparseCategoricalCrossentropy(from_logits=False),\n",
    "    optimizer=optimizer,\n",
    ")\n",
    "\n",
    "start = datetime.now()\n",
    "TYPE = 'keypoint'\n",
    "MODEL_NAME = 'efficientnetb0'\n",
    "logdir = f\"tensorboard_logs/{TYPE}/{MODEL_NAME}/run_{start.timestamp()}\"\n",
    "print(logdir)\n",
    "file_writer_distance_metrics_train = tf.summary.create_file_writer(logdir + \"/train\")\n",
    "file_writer_distance_metrics_validation = tf.summary.create_file_writer(\n",
    "    logdir + \"/validation\")\n",
    "\n",
    "model_path = f'models/{TYPE}/{MODEL_NAME}/run_{start.timestamp()}.h5'\n",
    "model.fit(\n",
    "    ds_alb,\n",
    "    epochs=EPOCHS,\n",
    "    validation_data=dataset_val,\n",
    "    callbacks=[\n",
    "        tf.keras.callbacks.TensorBoard(\n",
    "            log_dir=logdir,\n",
    "            update_freq=\"epoch\",\n",
    "        ),\n",
    "        tf.keras.callbacks.ModelCheckpoint(\n",
    "            filepath=model_path,\n",
    "            save_weights_only=False,\n",
    "            monitor='val_loss',\n",
    "            save_best_only=True,\n",
    "        ),\n",
    "        tf.keras.callbacks.ReduceLROnPlateau(\n",
    "            monitor='val_loss',\n",
    "            factor=0.8,\n",
    "            patience=20,  # todo change to 10\n",
    "            min_lr=1e-6,\n",
    "            cooldown=3,\n",
    "            verbose=1,\n",
    "        ),\n",
    "        tf.keras.callbacks.LambdaCallback(\n",
    "            on_epoch_end=partial(log_scalar_metrics, X=X, y=y,\n",
    "                                 file_writer=file_writer_distance_metrics_train, model=model)),\n",
    "        tf.keras.callbacks.LambdaCallback(\n",
    "            on_epoch_end=partial(log_scalar_metrics, X=X_val, y=y_val,\n",
    "                                 file_writer=file_writer_distance_metrics_validation, model=model)),\n",
    "\n",
    "    ]\n",
    ")\n",
    "elapsed = (datetime.now() - start).seconds\n",
    "print(\n",
    "    f\"total training time: {elapsed / 60} minutes, average: {elapsed / 60 / EPOCHS} minutes/epoch\")\n"
   ]
  },
  {
   "cell_type": "code",
   "execution_count": null,
   "metadata": {
    "pycharm": {
     "name": "#%%\n"
    }
   },
   "outputs": [],
   "source": [
    "train_X, train_y, _ = next(iter(ds_alb))\n",
    "train_X, train_y = train_X.numpy(), train_y.numpy()\n",
    "run_on_image_debug(model, train_X[0])"
   ]
  },
  {
   "cell_type": "code",
   "execution_count": null,
   "metadata": {
    "pycharm": {
     "name": "#%%\n"
    }
   },
   "outputs": [],
   "source": [
    "for image in X_val[10:20]:\n",
    "    run_on_image_debug(model, image)"
   ]
  },
  {
   "cell_type": "code",
   "execution_count": null,
   "metadata": {},
   "outputs": [],
   "source": [
    "model.save(model_path + \"-end\")"
   ]
  },
  {
   "cell_type": "code",
   "execution_count": null,
   "metadata": {
    "pycharm": {
     "name": "#%%\n"
    }
   },
   "outputs": [],
   "source": [
    "path = Path(f\"{ROOT_DIR}/example_data/Zrzut ekranu 2021-08-25 o 22.24.14.jpg\")\n",
    "test_image = tf.keras.preprocessing.image.load_img(\n",
    "    path, \"rgb\", target_size=image_size, interpolation=\"bicubic\",\n",
    ")\n",
    "test_image_np = tf.keras.preprocessing.image.img_to_array(test_image)"
   ]
  },
  {
   "cell_type": "code",
   "execution_count": null,
   "metadata": {
    "pycharm": {
     "name": "#%%\n"
    }
   },
   "outputs": [],
   "source": [
    "run_on_image_debug(model, test_image_np)"
   ]
  },
  {
   "cell_type": "code",
   "execution_count": null,
   "metadata": {
    "pycharm": {
     "name": "#%%\n"
    }
   },
   "outputs": [],
   "source": [
    "# model_path = \"./models/keypoint/efficientnetb0/run_1631135030.876396.h5\"\n",
    "print(model_path)\n",
    "loaded_model = tf.keras.models.load_model(model_path, compile=False)"
   ]
  },
  {
   "cell_type": "code",
   "execution_count": null,
   "metadata": {
    "pycharm": {
     "name": "#%%\n"
    }
   },
   "outputs": [],
   "source": [
    "for path in [\n",
    "    Path(f\"{ROOT_DIR}/example_data/Zrzut ekranu 2021-08-25 o 22.24.14.jpg\"),\n",
    "    Path(f\"{ROOT_DIR}/example_data/Zrzut ekranu 2021-08-25 o 22.24.24.jpg\"),\n",
    "    Path(f\"{ROOT_DIR}/example_data/test-image-2.jpg\"),\n",
    "]:\n",
    "    test_image = tf.keras.preprocessing.image.load_img(\n",
    "        path, \"rgb\", target_size=image_size, interpolation=\"bicubic\",\n",
    "    )\n",
    "    test_image_np = tf.keras.preprocessing.image.img_to_array(test_image)\n",
    "\n",
    "    run_on_image_debug(loaded_model, test_image_np)"
   ]
  },
  {
   "cell_type": "code",
   "execution_count": null,
   "metadata": {
    "pycharm": {
     "name": "#%%\n"
    }
   },
   "outputs": [],
   "source": [
    "for image in X_val[10:20]:\n",
    "    run_on_image_debug(loaded_model, image)\n"
   ]
  },
  {
   "cell_type": "code",
   "execution_count": null,
   "metadata": {},
   "outputs": [],
   "source": [
    "\n",
    "for image in X[10:20]:\n",
    "    run_on_image_debug(loaded_model, image)"
   ]
  },
  {
   "cell_type": "code",
   "execution_count": null,
   "metadata": {},
   "outputs": [],
   "source": []
  }
 ],
 "metadata": {
  "kernelspec": {
   "display_name": "Python (tf-watch-metal)",
   "language": "python",
   "name": "tf-watch-metal"
  },
  "language_info": {
   "codemirror_mode": {
    "name": "ipython",
    "version": 3
   },
   "file_extension": ".py",
   "mimetype": "text/x-python",
   "name": "python",
   "nbconvert_exporter": "python",
   "pygments_lexer": "ipython3",
   "version": "3.8.10"
  }
 },
 "nbformat": 4,
 "nbformat_minor": 1
}
