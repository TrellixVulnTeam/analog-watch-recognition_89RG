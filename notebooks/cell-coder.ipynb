{
 "cells": [
  {
   "cell_type": "code",
   "execution_count": null,
   "metadata": {},
   "outputs": [],
   "source": [
    "import numpy as np\n",
    "import tensorflow as tf\n",
    "from pathlib import Path\n",
    "\n",
    "import matplotlib.patches as patches\n",
    "import matplotlib.pyplot as plt\n",
    "\n",
    "from watch_recognition.data_preprocessing import load_keypoints_data\n",
    "from watch_recognition.models import build_backbone\n",
    "\n",
    "%matplotlib inline\n",
    "\n",
    "\n",
    "EPOCHS = 2\n",
    "image_size = (224, 224)"
   ]
  },
  {
   "cell_type": "code",
   "execution_count": null,
   "metadata": {
    "pycharm": {
     "name": "#%%\n"
    }
   },
   "outputs": [],
   "source": [
    "base_model = build_backbone(image_size)"
   ]
  },
  {
   "cell_type": "code",
   "execution_count": null,
   "metadata": {
    "pycharm": {
     "name": "#%%\n"
    }
   },
   "outputs": [],
   "source": [
    "# build model\n",
    "\n",
    "inputs = tf.keras.Input(shape=(*image_size, 3), )\n",
    "x = base_model(inputs)\n",
    "output = tf.keras.layers.Conv2D(\n",
    "    filters=4, kernel_size=1, strides=1, padding=\"same\", activation=\"sigmoid\"\n",
    ")(x)\n",
    "\n",
    "model = tf.keras.models.Model(\n",
    "    inputs=inputs, outputs=output\n",
    ")"
   ]
  },
  {
   "cell_type": "code",
   "execution_count": null,
   "metadata": {
    "pycharm": {
     "name": "#%%\n"
    }
   },
   "outputs": [],
   "source": [
    "model.summary()\n"
   ]
  },
  {
   "cell_type": "code",
   "execution_count": null,
   "metadata": {
    "pycharm": {
     "name": "#%%\n"
    }
   },
   "outputs": [],
   "source": [
    "model.output.shape[1:]"
   ]
  },
  {
   "cell_type": "code",
   "execution_count": null,
   "metadata": {
    "pycharm": {
     "name": "#%%\n"
    }
   },
   "outputs": [],
   "source": [
    "X, y = load_keypoints_data(Path(\"../data/watch-points/tags.csv\"),\n",
    "                           model_output_shape=model.output.shape[1:],\n",
    "                           )\n",
    "X_val, y_val = load_keypoints_data(Path(\"../data/watch-points/tags.csv\"),\n",
    "                                   split='validation',\n",
    "                                   model_output_shape=model.output.shape[1:],\n",
    "                                   )\n",
    "X.shape, y.shape"
   ]
  },
  {
   "cell_type": "code",
   "execution_count": null,
   "metadata": {
    "pycharm": {
     "name": "#%%\n"
    }
   },
   "outputs": [],
   "source": [
    "model.compile(loss='binary_crossentropy', optimizer='adam')"
   ]
  },
  {
   "cell_type": "code",
   "execution_count": null,
   "metadata": {
    "pycharm": {
     "name": "#%%\n"
    }
   },
   "outputs": [],
   "source": [
    "model.fit(\n",
    "    X, y,\n",
    "    epochs=EPOCHS,\n",
    "    validation_data=(X_val, y_val),\n",
    ")"
   ]
  },
  {
   "cell_type": "code",
   "execution_count": null,
   "metadata": {
    "pycharm": {
     "name": "#%%\n"
    }
   },
   "outputs": [],
   "source": [
    "\n",
    "def run_on_image_debug(model, image):\n",
    "    predicted = model(np.expand_dims(image, 0)).numpy()\n",
    "    downsample_factor = image.shape[1] / predicted.shape[1]\n",
    "    for i, point in enumerate(predicted[0].transpose((2, 1, 0))):\n",
    "        fig, ax = plt.subplots(1, 3)\n",
    "\n",
    "        ax[0].imshow(predicted[0, :, :, i],\n",
    "                     extent=[0, predicted.shape[1], predicted.shape[1], 0])\n",
    "        ax[1].imshow(point, extent=[0, predicted.shape[1], predicted.shape[1], 0])\n",
    "\n",
    "        ax[2].imshow(image.astype('uint8'),\n",
    "                     extent=[0, image.shape[0], image.shape[1], 0])\n",
    "        for j in range(predicted.shape[1]):\n",
    "            ax[2].axvline(j * downsample_factor)\n",
    "        for j in range(predicted.shape[2]):\n",
    "            ax[2].axhline(j * downsample_factor)\n",
    "        grid_predicted = np.unravel_index(np.argmax(predicted[0, :, :, i]),\n",
    "                                          predicted[0, :, :, i].shape)\n",
    "\n",
    "        rectangle_predicted = grid_predicted[1] * downsample_factor, grid_predicted[\n",
    "            0] * downsample_factor\n",
    "\n",
    "        rect_pred = patches.Rectangle(rectangle_predicted, downsample_factor,\n",
    "                                      downsample_factor,\n",
    "                                      linewidth=1, edgecolor='r', facecolor='red')\n",
    "\n",
    "        ax[2].add_patch(rect_pred)\n",
    "        plt.show()\n",
    "    center = np.array(\n",
    "        np.unravel_index(np.argmax(predicted[0, :, :, 0]), predicted.shape[1:3]))[::-1]\n",
    "    hour = np.array(\n",
    "        np.unravel_index(np.argmax(predicted[0, :, :, 1]), predicted.shape[1:3]))[\n",
    "           ::-1] - center\n",
    "    minute = np.array(\n",
    "        np.unravel_index(np.argmax(predicted[0, :, :, 2]), predicted.shape[1:3]))[\n",
    "             ::-1] - center\n",
    "    top = np.array(\n",
    "        np.unravel_index(np.argmax(predicted[0, :, :, 3]), predicted.shape[1:3]))[\n",
    "          ::-1] - center\n",
    "    read_hour = np.rad2deg(\n",
    "        np.arctan2(top[0], top[1]) - np.arctan2(hour[0], hour[1])) / 360 * 12\n",
    "    if read_hour < 0:\n",
    "        read_hour += 12\n",
    "\n",
    "    read_minute = np.rad2deg(\n",
    "        np.arctan2(top[0], top[1]) - np.arctan2(minute[0], minute[1])) / 360 * 60\n",
    "\n",
    "    if read_minute < 0:\n",
    "        read_minute += 60\n",
    "    print(f\"{read_hour:.0f}:{read_minute:.0f}\")"
   ]
  },
  {
   "cell_type": "code",
   "execution_count": null,
   "metadata": {
    "pycharm": {
     "name": "#%%\n"
    }
   },
   "outputs": [],
   "source": [
    "run_on_image_debug(model, X[0])\n"
   ]
  },
  {
   "cell_type": "code",
   "execution_count": null,
   "metadata": {
    "pycharm": {
     "name": "#%%\n"
    }
   },
   "outputs": [],
   "source": [
    "path = Path(\"../example_data/test-image-2.jpg\")\n",
    "test_image = tf.keras.preprocessing.image.load_img(\n",
    "    path, \"rgb\", target_size=image_size, interpolation=\"bicubic\"\n",
    ")\n",
    "test_image_np = tf.keras.preprocessing.image.img_to_array(test_image)\n",
    "run_on_image_debug(model, test_image_np)\n"
   ]
  },
  {
   "cell_type": "code",
   "execution_count": null,
   "metadata": {
    "pycharm": {
     "name": "#%%\n"
    }
   },
   "outputs": [],
   "source": []
  }
 ],
 "metadata": {
  "kernelspec": {
   "display_name": "Python (tf-watch-metal)",
   "language": "python",
   "name": "tf-watch-metal"
  },
  "language_info": {
   "codemirror_mode": {
    "name": "ipython",
    "version": 2
   },
   "file_extension": ".py",
   "mimetype": "text/x-python",
   "name": "python",
   "nbconvert_exporter": "python",
   "pygments_lexer": "ipython2",
   "version": "2.7.6"
  }
 },
 "nbformat": 4,
 "nbformat_minor": 0
}
