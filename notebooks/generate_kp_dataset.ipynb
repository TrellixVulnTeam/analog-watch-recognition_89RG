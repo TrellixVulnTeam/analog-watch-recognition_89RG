{
 "cells": [
  {
   "cell_type": "code",
   "execution_count": null,
   "metadata": {},
   "outputs": [],
   "source": [
    "import json\n",
    "from collections import defaultdict\n",
    "from pathlib import Path\n",
    "\n",
    "import pandas as pd\n",
    "from PIL import Image\n",
    "\n",
    "from watch_recognition.utilities import Point, BBox\n"
   ]
  },
  {
   "cell_type": "code",
   "execution_count": null,
   "metadata": {
    "pycharm": {
     "name": "#%%\n"
    }
   },
   "outputs": [],
   "source": [
    "def generate_kp_dataset(image_dir, tags_path, save_dir):\n",
    "    with tags_path.open('r') as f:\n",
    "        tag_data = json.load(f)\n",
    "\n",
    "    save_dir.mkdir(exist_ok=True, parents=True)\n",
    "\n",
    "    records = []\n",
    "    for tag in tag_data:\n",
    "        filename = tag['file_upload']\n",
    "        watch_faces = []\n",
    "        watch_keypoints = []\n",
    "        for annotation in tag['annotations']:\n",
    "            for result in annotation['result']:\n",
    "                original_width = result['original_width']\n",
    "                original_height = result['original_height']\n",
    "                value_ = result['value']\n",
    "                if result['type'] == 'keypointlabels':\n",
    "                    label = value_['keypointlabels'][0]\n",
    "                    x = value_['x']\n",
    "                    y = value_['y']\n",
    "                    pixel_x = x / 100.0 * original_width\n",
    "                    pixel_y = y / 100.0 * original_height\n",
    "                    point = Point(pixel_x, pixel_y, label)\n",
    "                    watch_keypoints.append(point)\n",
    "\n",
    "\n",
    "                elif result['type'] == 'rectanglelabels':\n",
    "                    label = value_['rectanglelabels'][0]\n",
    "                    x = value_['x']\n",
    "                    y = value_['y']\n",
    "                    width = value_['width']\n",
    "                    height = value_['height']\n",
    "                    pixel_x = x / 100.0 * original_width\n",
    "                    pixel_y = y / 100.0 * original_height\n",
    "                    pixel_width = width / 100.0 * original_width\n",
    "                    pixel_height = height / 100.0 * original_height\n",
    "                    bbox = BBox(\n",
    "                        pixel_x ,\n",
    "                        pixel_y,\n",
    "                        pixel_x + pixel_width,\n",
    "                        pixel_y + pixel_height,\n",
    "                        label\n",
    "                    )\n",
    "                    watch_faces.append(bbox)\n",
    "\n",
    "                else:\n",
    "                    raise ValueError(f\"unknown annotation type {result['type']}\")\n",
    "            box_to_keypoints = defaultdict(list)\n",
    "            for box in watch_faces:\n",
    "                for keypoint in watch_keypoints:\n",
    "                    if box.contains(keypoint):\n",
    "                        box_to_keypoints[box].append(keypoint)\n",
    "            image_id = Path(filename).stem\n",
    "            with Image.open(image_dir / filename) as img:\n",
    "                for i, (box, keypoints) in enumerate(box_to_keypoints.items()):\n",
    "                    crop_box = tuple(map(int, box.astuple()))\n",
    "                    crop_id = f\"{image_id}_{i}\"\n",
    "                    crop_file = save_dir / f\"{crop_id}.jpg\"\n",
    "                    crop = img.crop(crop_box)\n",
    "                    crop.save(crop_file)\n",
    "                    for kp in keypoints:\n",
    "                        kp = kp.translate(-box.x_min, -box.y_min)\n",
    "                        records.append({\n",
    "                            'image_id': image_id,\n",
    "                            'image_file': filename,\n",
    "                            'crop_file': crop_file.name,\n",
    "                            'crop_id': crop_id,\n",
    "                            'label': kp.name,\n",
    "                            'x': kp.x / crop.width,\n",
    "                            'y': kp.y / crop.height,\n",
    "                        })\n",
    "\n",
    "    df = pd.DataFrame(records)\n",
    "    df.to_csv(save_dir / f\"tags.csv\", index=False)"
   ]
  },
  {
   "cell_type": "code",
   "execution_count": null,
   "metadata": {
    "pycharm": {
     "name": "#%%\n"
    }
   },
   "outputs": [],
   "source": [
    "for split in ['train', 'validation', 'test']:\n",
    "    image_dir = Path(f\"../download_data/{split}\")\n",
    "    save_dir = Path(f\"../download_data/keypoints/{split}\")\n",
    "    tags_path = Path(f\"../download_data/{split}-tags.json\")\n",
    "    try:\n",
    "        generate_kp_dataset(image_dir, tags_path, save_dir)\n",
    "    except Exception as e:\n",
    "        print(e)\n"
   ]
  }
 ],
 "metadata": {
  "kernelspec": {
   "display_name": "Python (tf-watch-metal)",
   "language": "python",
   "name": "tf-watch-metal"
  },
  "language_info": {
   "codemirror_mode": {
    "name": "ipython",
    "version": 2
   },
   "file_extension": ".py",
   "mimetype": "text/x-python",
   "name": "python",
   "nbconvert_exporter": "python",
   "pygments_lexer": "ipython2",
   "version": "2.7.6"
  }
 },
 "nbformat": 4,
 "nbformat_minor": 0
}
