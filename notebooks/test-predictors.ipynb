{
 "cells": [
  {
   "cell_type": "code",
   "execution_count": null,
   "metadata": {},
   "outputs": [],
   "source": [
    "%load_ext autoreload\n",
    "%autoreload 2"
   ]
  },
  {
   "cell_type": "code",
   "execution_count": null,
   "metadata": {
    "pycharm": {
     "name": "#%%\n"
    }
   },
   "outputs": [],
   "source": [
    "example_image = \"../example_data/Zrzut ekranu 2021-08-25 o 22.24.24.jpg\""
   ]
  },
  {
   "cell_type": "code",
   "execution_count": null,
   "metadata": {
    "pycharm": {
     "name": "#%%\n"
    }
   },
   "outputs": [],
   "source": [
    "from PIL import Image"
   ]
  },
  {
   "cell_type": "code",
   "execution_count": null,
   "metadata": {
    "pycharm": {
     "name": "#%%\n"
    }
   },
   "outputs": [],
   "source": [
    "from watch_recognition.predictors import HandPredictor, KPPredictor, TFLiteDetector, \\\n",
    "    RotationPredictor\n"
   ]
  },
  {
   "cell_type": "code",
   "execution_count": null,
   "metadata": {
    "pycharm": {
     "name": "#%%\n"
    }
   },
   "outputs": [],
   "source": [
    "\n",
    "keypoint_model = '../cloud_train/local-training-output/heatmap-regression_098DB017/models/keypoint/efficientnetb0-unet-96-hands/run_1636479122.611962/'\n",
    "sm_model_path = \"../models/effnet-b3-FPN-(160, 160)-935-weighted-jl/F661D8C2\"\n",
    "\n",
    "rp = RotationPredictor(\"./models/angle-classifier/efficientnetb0-8/run_1635014448.999021/\")\n",
    "detector = TFLiteDetector(\"./models/detection/efficientdet_lite0/run_1633100188.371347/model.tflite\")\n",
    "hand_predictor = HandPredictor(sm_model_path)\n",
    "kp_predictor = KPPredictor(keypoint_model)"
   ]
  },
  {
   "cell_type": "code",
   "execution_count": null,
   "metadata": {
    "pycharm": {
     "name": "#%%\n"
    }
   },
   "outputs": [],
   "source": [
    "import dataclasses\n",
    "from watch_recognition.models import points_to_time\n",
    "import numpy as np\n",
    "import matplotlib.pyplot as plt\n",
    "from watch_recognition.targets_encoding import fit_lines_to_hands_mask\n",
    "with Image.open(example_image) as pil_img:\n",
    "    # pil_img = pil_img.rotate(-180)\n",
    "    frame = np.array(pil_img)\n",
    "\n",
    "    bboxes = detector.predict(pil_img)\n",
    "    for box in bboxes:\n",
    "        pred_center, pred_top = kp_predictor.predict_from_image_and_bbox(pil_img, box, rotation_predictor=rp)\n",
    "        frame = pred_center.draw_marker(frame, thickness=2)\n",
    "        frame = pred_top.draw_marker(frame, thickness=2)\n",
    "        minute_and_hour, other = hand_predictor.predict_from_image_and_bbox(pil_img, box, pred_center)\n",
    "        if minute_and_hour:\n",
    "            pred_minute, pred_hour = minute_and_hour\n",
    "            read_hour, read_minute = points_to_time(\n",
    "                pred_center, pred_hour.end, pred_minute.end, pred_top\n",
    "            )\n",
    "            frame = pred_minute.draw(frame, thickness=3)\n",
    "            frame = pred_minute.end.draw_marker(frame, thickness=2)\n",
    "            frame = pred_hour.draw(frame, thickness=5)\n",
    "            frame = pred_hour.end.draw_marker(frame, thickness=2)\n",
    "\n",
    "\n",
    "            time = f\"{read_hour:.0f}:{read_minute:.0f}\"\n",
    "            box = dataclasses.replace(box, name=time)\n",
    "        for line in other:\n",
    "            frame = line.draw(frame, thickness=2, color=(255, 0, 0))\n",
    "            # print(line.projection_point(pred_center).distance(pred_center))\n",
    "        frame = box.draw(frame)\n",
    "plt.imshow(frame)"
   ]
  },
  {
   "cell_type": "code",
   "execution_count": null,
   "metadata": {
    "pycharm": {
     "name": "#%%\n"
    }
   },
   "outputs": [],
   "source": [
    "x_coords_1 =[23, 24, 25, 23, 24, 25, 26, 27, 28, 29, 24, 25, 26, 27, 28, 29, 30, 31, 32, 26, 27, 28, 29, 30, 31, 32, 33, 34, 35, 29, 30, 31, 32, 33, 34, 35, 36, 37, 38, 32, 33, 34, 35, 36, 37, 38, 39, 40, 34, 35, 36, 37, 38, 39, 40, 41, 42, 43, 37, 38, 39, 40, 41, 42, 43, 44, 45, 39, 40, 41, 42, 43, 44, 45, 46, 47, 48, 42, 43, 44, 45, 46, 47, 48, 49, 50, 51, 45, 46, 47, 48, 49, 50, 51, 52, 53, 54, 47, 48, 49, 50, 51, 52, 53, 54, 55, 56, 57, 49, 50, 51, 52, 53, 54, 55, 56, 57, 58, 59, 51, 52, 53, 54, 55, 56, 57, 58, 59, 60, 61, 62, 53, 54, 55, 56, 57, 58, 59, 60, 61, 62, 63, 64, 65, 54, 55, 56, 57, 58, 59, 60, 61, 62, 63, 64, 65, 66, 67, 58, 59, 60, 61, 62, 63, 64, 65, 66, 67, 68, 69, 62, 63, 64, 65, 66, 67, 68, 69, 70, 71, 66, 67, 68, 69, 70, 71, 72, 73, 70, 71, 72, 73, 74, 75, 74, 75, 76, 77, 78, 79, 81]\n",
    "x_coords_2 = [83, 84, 85, 83, 84, 85, 83, 84, 85, 82, 83, 84, 85, 82, 83, 84, 85, 82, 83, 84, 85, 82, 83, 84, 85, 82, 83, 84, 85, 81, 82, 83, 84, 85, 81, 82, 83, 84, 85, 81, 82, 83, 84, 85, 81, 82, 83, 84, 85, 81, 82, 83, 84, 85, 81, 82, 83, 84, 81, 82, 83, 84, 81, 82, 83, 84, 81, 82, 83, 84, 81, 82, 83, 84, 81, 82, 83, 84, 81, 82, 83, 84, 81, 82, 83, 84, 81, 82, 83, 84, 80, 81, 82, 83, 84, 80, 81, 82, 83, 84, 80, 81, 82, 83, 84, 80, 81, 82, 83, 80, 81, 82, 83, 80, 81, 82, 83, 80, 81, 82, 83, 81, 82, 83, 81, 82, 83, 81, 82, 83, 81, 82, 83, 81, 82, 83, 81, 82, 83, 81, 82, 81, 82, 81, 82, 81, 82, 82]\n",
    "x_coords_3 = [83, 84, 85, 86, 87, 88, 89, 90, 91, 92, 93, 94, 84, 85, 86, 87, 88, 89, 90, 91, 92, 93, 94, 95, 96, 97, 98, 99, 100, 101, 102, 103, 104, 86, 87, 88, 89, 90, 91, 92, 93, 94, 95, 96, 97, 98, 99, 100, 101, 102, 103, 104, 105, 89, 90, 91, 92, 93, 94, 95, 96, 97, 98, 99, 100, 101, 102, 103, 104, 105, 93, 94, 95, 96, 97, 98, 99, 100, 101, 102, 103, 104, 105, 98, 99, 100, 101, 102, 103, 104, 105]"
   ]
  },
  {
   "cell_type": "code",
   "execution_count": null,
   "metadata": {
    "pycharm": {
     "name": "#%%\n"
    }
   },
   "outputs": [],
   "source": [
    "np.std(x_coords_1), np.std(x_coords_2), np.std(x_coords_3),"
   ]
  }
 ],
 "metadata": {
  "kernelspec": {
   "display_name": "Python (tf-watch-metal)",
   "language": "python",
   "name": "tf-watch-metal"
  },
  "language_info": {
   "codemirror_mode": {
    "name": "ipython",
    "version": 2
   },
   "file_extension": ".py",
   "mimetype": "text/x-python",
   "name": "python",
   "nbconvert_exporter": "python",
   "pygments_lexer": "ipython2",
   "version": "2.7.6"
  }
 },
 "nbformat": 4,
 "nbformat_minor": 0
}
