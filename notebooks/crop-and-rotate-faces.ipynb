{
 "cells": [
  {
   "cell_type": "code",
   "execution_count": null,
   "metadata": {
    "pycharm": {
     "name": "#%%\n"
    }
   },
   "outputs": [],
   "source": [
    "%load_ext autoreload\n",
    "%autoreload 2\n",
    "import os\n",
    "from typing import Dict\n",
    "\n",
    "import numpy as np\n",
    "\n",
    "os.environ[\"SM_FRAMEWORK\"] = \"tf.keras\"\n",
    "\n",
    "import argparse\n",
    "from datetime import datetime\n",
    "from functools import partial\n",
    "\n",
    "import tensorflow as tf\n",
    "import segmentation_models as sm\n",
    "from watch_recognition.data_preprocessing import load_keypoints_data_as_kp\n",
    "from watch_recognition.datasets import get_watch_keypoints_dataset\n",
    "from watch_recognition.models import DeeplabV3Plus, IouLoss2, get_unet_model\n",
    "from watch_recognition.reports import log_scalar_metrics, visualize_high_loss_examples"
   ]
  },
  {
   "cell_type": "code",
   "execution_count": null,
   "metadata": {
    "pycharm": {
     "name": "#%%\n"
    }
   },
   "outputs": [],
   "source": [
    "image_size = None\n",
    "mask_size = image_size\n",
    "data_dir ='/Users/akuc/Code/python/analog-watch-recognition/download_data/'"
   ]
  },
  {
   "cell_type": "code",
   "execution_count": null,
   "metadata": {},
   "outputs": [],
   "source": [
    "X, y, filenames = load_keypoints_data_as_kp(\n",
    "    data_dir + \"keypoints/train/\",\n",
    "    autorotate=True,\n",
    "    image_size=image_size,\n",
    ")"
   ]
  },
  {
   "cell_type": "code",
   "execution_count": null,
   "metadata": {
    "pycharm": {
     "name": "#%%\n"
    }
   },
   "outputs": [],
   "source": [
    "len(X)"
   ]
  },
  {
   "cell_type": "code",
   "execution_count": null,
   "metadata": {
    "pycharm": {
     "name": "#%%\n"
    }
   },
   "outputs": [],
   "source": [
    "from pathlib import Path\n",
    "\n",
    "save_dir = Path('/Users/akuc/Code/python/analog-watch-recognition/download_data/faces')\n",
    "train_dir = save_dir / 'train'\n",
    "train_dir.mkdir(exist_ok=True, parents=True)"
   ]
  },
  {
   "cell_type": "code",
   "execution_count": null,
   "metadata": {
    "pycharm": {
     "name": "#%%\n"
    }
   },
   "outputs": [],
   "source": [
    "from PIL import Image\n",
    "from tqdm import tqdm\n",
    "for x, name in tqdm(zip(X, filenames)):\n",
    "    with Image.fromarray(x) as img:\n",
    "        img.save(train_dir / name)"
   ]
  },
  {
   "cell_type": "code",
   "execution_count": null,
   "metadata": {
    "pycharm": {
     "name": "#%%\n"
    }
   },
   "outputs": [],
   "source": [
    "X_val, y_val, filenames_val = load_keypoints_data_as_kp(\n",
    "    data_dir + \"keypoints/validation/\",\n",
    "    autorotate=True,\n",
    "    image_size=image_size,\n",
    ")"
   ]
  },
  {
   "cell_type": "code",
   "execution_count": null,
   "metadata": {
    "pycharm": {
     "name": "#%%\n"
    }
   },
   "outputs": [],
   "source": [
    "val_dir = save_dir / 'validation'\n",
    "val_dir.mkdir(exist_ok=True, parents=True)"
   ]
  },
  {
   "cell_type": "code",
   "execution_count": null,
   "metadata": {
    "pycharm": {
     "name": "#%%\n"
    }
   },
   "outputs": [],
   "source": [
    "for x, name in tqdm(zip(X_val, filenames_val)):\n",
    "    with Image.fromarray(x) as img:\n",
    "        img.save(val_dir / name)"
   ]
  },
  {
   "cell_type": "code",
   "execution_count": null,
   "metadata": {
    "pycharm": {
     "name": "#%%\n"
    }
   },
   "outputs": [],
   "source": []
  },
  {
   "cell_type": "code",
   "execution_count": null,
   "metadata": {
    "pycharm": {
     "name": "#%%\n"
    }
   },
   "outputs": [],
   "source": []
  }
 ],
 "metadata": {
  "kernelspec": {
   "display_name": "Python (tf-watch-metal)",
   "language": "python",
   "name": "tf-watch-metal"
  },
  "language_info": {
   "codemirror_mode": {
    "name": "ipython",
    "version": 2
   },
   "file_extension": ".py",
   "mimetype": "text/x-python",
   "name": "python",
   "nbconvert_exporter": "python",
   "pygments_lexer": "ipython2",
   "version": "2.7.6"
  }
 },
 "nbformat": 4,
 "nbformat_minor": 0
}
