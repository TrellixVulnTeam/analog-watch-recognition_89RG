{
 "cells": [
  {
   "cell_type": "code",
   "execution_count": null,
   "metadata": {},
   "outputs": [],
   "source": [
    "%load_ext autoreload\n",
    "%autoreload 2\n",
    "import tensorflow as tf\n",
    "from pathlib import Path\n",
    "from watch_recognition.reports import run_on_image_debug\n",
    "from watch_recognition.models import convert_outputs_to_keypoints\n",
    "\n",
    "from watch_recognition.reports import run_on_image_debug"
   ]
  },
  {
   "cell_type": "code",
   "execution_count": null,
   "metadata": {
    "pycharm": {
     "name": "#%%\n"
    }
   },
   "outputs": [],
   "source": [
    "image_size = (224, 224)\n",
    "model_path = \"./models/keypoint/efficientnetb0/run_1632579369.409768.h5\"\n",
    "loaded_model = tf.keras.models.load_model(model_path, compile=False)\n",
    "loaded_model.summary()"
   ]
  },
  {
   "cell_type": "code",
   "execution_count": null,
   "metadata": {
    "pycharm": {
     "name": "#%%\n"
    }
   },
   "outputs": [],
   "source": [
    "for path in [\n",
    "    Path(\"../example_data/Zrzut ekranu 2021-08-25 o 22.24.14.jpg\"),\n",
    "    Path(\"../example_data/Zrzut ekranu 2021-08-25 o 22.24.24.jpg\"),\n",
    "    Path(\"../example_data/test-image-2.jpg\"),\n",
    "]:\n",
    "    test_image = tf.keras.preprocessing.image.load_img(\n",
    "        path, \"rgb\", target_size=image_size, interpolation=\"bicubic\",\n",
    "    )\n",
    "    test_image_np = tf.keras.preprocessing.image.img_to_array(test_image)\n",
    "\n",
    "    run_on_image_debug(loaded_model, test_image_np)"
   ]
  },
  {
   "cell_type": "code",
   "execution_count": null,
   "metadata": {},
   "outputs": [],
   "source": [
    "from watch_recognition.data_preprocessing import load_keypoints_data_as_kp\n",
    "ROOT_DIR = \"..\"\n",
    "X, y, filenames = load_keypoints_data_as_kp(\n",
    "    Path(\"%s/download_data/keypoints/train\" % ROOT_DIR),\n",
    ")\n",
    "X.shape, y.shape"
   ]
  },
  {
   "cell_type": "code",
   "execution_count": null,
   "metadata": {
    "pycharm": {
     "name": "#%%\n"
    }
   },
   "outputs": [],
   "source": [
    "predicted = loaded_model.predict(X)"
   ]
  },
  {
   "cell_type": "code",
   "execution_count": null,
   "metadata": {},
   "outputs": [],
   "source": [
    "import matplotlib.pyplot as plt\n",
    "import numpy as np\n",
    "%matplotlib inline"
   ]
  },
  {
   "cell_type": "code",
   "execution_count": null,
   "metadata": {},
   "outputs": [],
   "source": [
    "predicted.shape"
   ]
  },
  {
   "cell_type": "code",
   "execution_count": null,
   "metadata": {},
   "outputs": [],
   "source": [
    "from watch_recognition.reports import calculate_distances_between_points"
   ]
  },
  {
   "cell_type": "code",
   "execution_count": null,
   "metadata": {},
   "outputs": [],
   "source": [
    "(\n",
    "    center_distances,\n",
    "    hour_distances,\n",
    "    minute_distances,\n",
    "    top_distances,\n",
    ") = calculate_distances_between_points(X, predicted, y)"
   ]
  },
  {
   "cell_type": "code",
   "execution_count": null,
   "metadata": {},
   "outputs": [],
   "source": [
    "import pandas as pd"
   ]
  },
  {
   "cell_type": "code",
   "execution_count": null,
   "metadata": {},
   "outputs": [],
   "source": [
    "from watch_recognition.augmentations import encode_keypoints_to_mask_np"
   ]
  },
  {
   "cell_type": "code",
   "execution_count": null,
   "metadata": {
    "pycharm": {
     "name": "#%%\n"
    }
   },
   "outputs": [],
   "source": [
    "len(top_distances)"
   ]
  },
  {
   "cell_type": "code",
   "execution_count": null,
   "metadata": {
    "pycharm": {
     "name": "#%%\n"
    }
   },
   "outputs": [],
   "source": [
    "df = pd.DataFrame({\n",
    "    \"center_distances\":center_distances,\n",
    "    \"hour_distances\":hour_distances,\n",
    "    \"minute_distances\":minute_distances,\n",
    "    \"top_distances\":top_distances,\n",
    "    \"filename\": filenames,\n",
    "})"
   ]
  },
  {
   "cell_type": "code",
   "execution_count": null,
   "metadata": {},
   "outputs": [],
   "source": [
    "df['mean_distances'] = df.mean(axis=1).values"
   ]
  },
  {
   "cell_type": "code",
   "execution_count": null,
   "metadata": {},
   "outputs": [],
   "source": [
    "df.head()"
   ]
  },
  {
   "cell_type": "code",
   "execution_count": null,
   "metadata": {},
   "outputs": [],
   "source": [
    "df.sort_values(\"mean_distances\").head(5)\n",
    "\n"
   ]
  },
  {
   "cell_type": "code",
   "execution_count": null,
   "metadata": {},
   "outputs": [],
   "source": [
    "df.mean(axis=0)"
   ]
  },
  {
   "cell_type": "code",
   "execution_count": null,
   "metadata": {},
   "outputs": [],
   "source": [
    "for i, data in df.sort_values(\"mean_distances\", ascending=False).head(10).iterrows():\n",
    "    scale_factor = X.shape[1] / predicted.shape[1]\n",
    "    print(f\"example {filenames[i]}\")\n",
    "    print(data)\n",
    "\n",
    "    center_hat, hour_hat, minute_hat, top_hat = convert_outputs_to_keypoints(\n",
    "        predicted[i]\n",
    "    )\n",
    "    center_hat, hour_hat, minute_hat, top_hat = [\n",
    "        np.array(p.as_coordinates_tuple).astype(float)\n",
    "        for p in (center_hat, hour_hat, minute_hat, top_hat)\n",
    "    ]\n",
    "    center_hat = center_hat * scale_factor\n",
    "    top_hat = top_hat * scale_factor\n",
    "    hour_hat = hour_hat * scale_factor\n",
    "    minute_hat = minute_hat * scale_factor\n",
    "    predicted_points = np.stack(\n",
    "        [\n",
    "            center_hat,\n",
    "            top_hat,\n",
    "            minute_hat,\n",
    "            hour_hat,\n",
    "        ]\n",
    "    )\n",
    "   \n",
    "    rounded_predicted_points = np.round(predicted_points)\n",
    "    print(\"targets|predictions\")\n",
    "    print(np.hstack((y[i][:, :2], rounded_predicted_points)))\n",
    "    markers = ['.', '^', '*', 's']\n",
    "    names = ['center', 'top', 'minute', 'hour']\n",
    "    for point, marker, name in zip(predicted_points, markers, names):\n",
    "        plt.scatter(*point, marker=marker, color='red', label=name)\n",
    "    for point, marker, name in zip(y[i][:, :2], markers, names):\n",
    "        plt.scatter(*point, marker=marker, color='green', label=name)\n",
    "\n",
    "    plt.imshow(X[i])\n",
    "    ax = plt.gca()\n",
    "    # https://stackoverflow.com/a/4701285/8814045\n",
    "    # Shrink current axis's height by 10% on the bottom\n",
    "    box = ax.get_position()\n",
    "    ax.set_position([box.x0, box.y0 + box.height * 0.1,\n",
    "                 box.width, box.height * 0.9])\n",
    "\n",
    "    # Put a legend below current axis\n",
    "    ax.legend(loc='upper center', bbox_to_anchor=(0.5, -0.05),\n",
    "          fancybox=True, shadow=True, ncol=5)\n",
    "    plt.show()\n",
    "    run_on_image_debug(loaded_model, X[i])\n",
    "    print(\"#\" * 100)"
   ]
  },
  {
   "cell_type": "code",
   "execution_count": null,
   "metadata": {},
   "outputs": [],
   "source": []
  }
 ],
 "metadata": {
  "kernelspec": {
   "display_name": "Python (tf-watch-metal)",
   "language": "python",
   "name": "tf-watch-metal"
  },
  "language_info": {
   "codemirror_mode": {
    "name": "ipython",
    "version": 3
   },
   "file_extension": ".py",
   "mimetype": "text/x-python",
   "name": "python",
   "nbconvert_exporter": "python",
   "pygments_lexer": "ipython3",
   "version": "3.8.10"
  }
 },
 "nbformat": 4,
 "nbformat_minor": 1
}
