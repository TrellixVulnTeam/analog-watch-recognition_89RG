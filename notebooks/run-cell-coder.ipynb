{
 "cells": [
  {
   "cell_type": "code",
   "execution_count": null,
   "metadata": {},
   "outputs": [],
   "source": [
    "%load_ext autoreload\n",
    "%autoreload 2\n",
    "import tensorflow as tf\n",
    "from pathlib import Path\n",
    "from watch_recognition.reports import run_on_image_debug"
   ]
  },
  {
   "cell_type": "code",
   "execution_count": null,
   "metadata": {
    "pycharm": {
     "name": "#%%\n"
    }
   },
   "outputs": [],
   "source": [
    "image_size = (224, 224)\n",
    "model_path = \"./models/keypoint/efficientnetb0/run_1631439816.02976.h5\"\n",
    "loaded_model = tf.keras.models.load_model(model_path, compile=False)\n",
    "loaded_model.summary()"
   ]
  },
  {
   "cell_type": "code",
   "execution_count": null,
   "metadata": {
    "pycharm": {
     "name": "#%%\n"
    }
   },
   "outputs": [],
   "source": [
    "for path in [\n",
    "    Path(\"../example_data/Zrzut ekranu 2021-08-25 o 22.24.14.jpg\"),\n",
    "    Path(\"../example_data/Zrzut ekranu 2021-08-25 o 22.24.24.jpg\"),\n",
    "    Path(\"../example_data/test-image-2.jpg\"),\n",
    "]:\n",
    "    test_image = tf.keras.preprocessing.image.load_img(\n",
    "        path, \"rgb\", target_size=image_size, interpolation=\"bicubic\",\n",
    "    )\n",
    "    test_image_np = tf.keras.preprocessing.image.img_to_array(test_image)\n",
    "\n",
    "    run_on_image_debug(loaded_model, test_image_np)"
   ]
  }
 ],
 "metadata": {
  "kernelspec": {
   "display_name": "Python (tf-watch-metal)",
   "language": "python",
   "name": "tf-watch-metal"
  },
  "language_info": {
   "codemirror_mode": {
    "name": "ipython",
    "version": 2
   },
   "file_extension": ".py",
   "mimetype": "text/x-python",
   "name": "python",
   "nbconvert_exporter": "python",
   "pygments_lexer": "ipython2",
   "version": "2.7.6"
  }
 },
 "nbformat": 4,
 "nbformat_minor": 0
}
