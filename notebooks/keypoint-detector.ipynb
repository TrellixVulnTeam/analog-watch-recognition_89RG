{
 "cells": [
  {
   "cell_type": "code",
   "execution_count": null,
   "metadata": {},
   "outputs": [],
   "source": [
    "import numpy as np\n",
    "from matplotlib import pyplot as plt\n",
    "from tensorflow import keras\n",
    "from tensorflow.keras import layers\n",
    "import tensorflow as tf\n",
    "from pathlib import Path\n",
    "import cv2\n",
    "from functools import partial\n",
    "\n",
    "from watch_recognition.data_preprocessing import load_keypoints_data_as_kp\n",
    "from watch_recognition.augmentations import set_shapes"
   ]
  },
  {
   "cell_type": "code",
   "execution_count": null,
   "metadata": {
    "pycharm": {
     "name": "#%%\n"
    }
   },
   "outputs": [],
   "source": [
    "IMG_SIZE = 224\n",
    "BATCH_SIZE = 64\n",
    "EPOCHS = 100\n",
    "NUM_KEYPOINTS = 4 * 2  # 24 pairs each having x and y coordinates"
   ]
  },
  {
   "cell_type": "code",
   "execution_count": null,
   "metadata": {
    "pycharm": {
     "name": "#%%\n"
    }
   },
   "outputs": [],
   "source": [
    "def get_model():\n",
    "    backbone = tf.keras.applications.EfficientNetB0(\n",
    "        weights=\"imagenet\",  # Load weights pre-trained on ImageNet.\n",
    "        input_shape=(IMG_SIZE, IMG_SIZE, 3),\n",
    "        include_top=False,\n",
    "    )\n",
    "    \n",
    "\n",
    "    for layer in backbone.layers:\n",
    "        if \"project_conv\" in layer.name:\n",
    "            print(layer.name, layer.output.shape)\n",
    "    outputs = [\n",
    "        backbone.get_layer(layer_name).output\n",
    "        for layer_name in [\"block7a_project_conv\"]\n",
    "    ]\n",
    "    base_model = tf.keras.Model(inputs=[backbone.inputs], outputs=outputs)\n",
    "    base_model.trainable=False\n",
    "    inputs = tf.keras.Input(\n",
    "        shape=(IMG_SIZE, IMG_SIZE, 3),\n",
    "    )\n",
    "    x  = base_model(inputs)\n",
    "    options = {\n",
    "        'kernel_initializer': tf.keras.initializers.RandomNormal(mean=0.0, stddev=0.01, seed=None),\n",
    "        'bias_initializer':'zeros',\n",
    "    }\n",
    "    \n",
    "    for i in range(3):\n",
    "        x = tf.keras.layers.Conv2D(filters=160, kernel_size=3, activation=None)(x)\n",
    "#         x = tf.keras.layers.BatchNormalization()(x)\n",
    "        x = tf.keras.layers.Activation(tf.keras.activations.swish)(x)\n",
    "\n",
    "#     x = tf.keras.layers.Conv2D(\n",
    "#         filters=NUM_KEYPOINTS, kernel_size=5, strides=1, activation=None\n",
    "#     )(x)\n",
    "#     x = tf.keras.layers.BatchNormalization()(x)\n",
    "#     x = tf.keras.layers.Activation(tf.keras.activations.swish)(x)\n",
    "\n",
    "    x = tf.keras.layers.Conv2D(\n",
    "        filters=NUM_KEYPOINTS,\n",
    "        kernel_size=1,\n",
    "        activation='sigmoid'\n",
    "    )(x)\n",
    "    output = tf.keras.layers.Flatten()(x)\n",
    "\n",
    "    model = tf.keras.models.Model(inputs=inputs, outputs=output)\n",
    "\n",
    "    return keras.Model(inputs, output, name=\"keypoint_detector\")"
   ]
  },
  {
   "cell_type": "code",
   "execution_count": null,
   "metadata": {
    "pycharm": {
     "name": "#%%\n"
    }
   },
   "outputs": [],
   "source": [
    "get_model().summary()"
   ]
  },
  {
   "cell_type": "code",
   "execution_count": null,
   "metadata": {
    "pycharm": {
     "name": "#%%\n"
    }
   },
   "outputs": [],
   "source": [
    "X, y, _ = load_keypoints_data_as_kp(\n",
    "    Path(\"../download_data/keypoints/train\"), autorotate=True)\n",
    "y = y[:, :, :2].reshape(-1, NUM_KEYPOINTS) / IMG_SIZE\n",
    "X.shape, y.shape"
   ]
  },
  {
   "cell_type": "code",
   "execution_count": null,
   "metadata": {
    "pycharm": {
     "name": "#%%\n"
    }
   },
   "outputs": [],
   "source": [
    "X_val, y_val, _ = load_keypoints_data_as_kp(\n",
    "    Path(\"../download_data/keypoints/validation\"), autorotate=True\n",
    ")\n",
    "y_val = y_val[:, :, :2].reshape(-1, NUM_KEYPOINTS) / IMG_SIZE\n",
    "X_val.shape, y_val.shape"
   ]
  },
  {
   "cell_type": "code",
   "execution_count": null,
   "metadata": {
    "pycharm": {
     "name": "#%%\n"
    }
   },
   "outputs": [],
   "source": [
    "train_ds = tf.data.Dataset.from_tensor_slices((X, y))\n"
   ]
  },
  {
   "cell_type": "code",
   "execution_count": null,
   "metadata": {
    "pycharm": {
     "name": "#%%\n"
    }
   },
   "outputs": [],
   "source": [
    "img, kp = next(iter(train_ds))"
   ]
  },
  {
   "cell_type": "code",
   "execution_count": null,
   "metadata": {
    "pycharm": {
     "name": "#%%\n"
    }
   },
   "outputs": [],
   "source": [
    "kp.numpy().reshape((-1,2))"
   ]
  },
  {
   "cell_type": "code",
   "execution_count": null,
   "metadata": {
    "pycharm": {
     "name": "#%%\n"
    }
   },
   "outputs": [],
   "source": [
    "def vis_keypoints(image, keypoints, color=(0, 255, 0)):\n",
    "    image = image.copy().astype(\"uint8\")\n",
    "    diameter = int(np.mean([image.shape[0], image.shape[1]]) / 50)\n",
    "    keypoints = keypoints * IMG_SIZE\n",
    "    for kp in keypoints:\n",
    "        x, y = kp[0], kp[1]\n",
    "        if 0 < x < image.shape[0] and 0 < y < image.shape[1]:\n",
    "            x_int = int(x)\n",
    "            y_int = int(y)\n",
    "            cv2.circle(image, (x_int, y_int), diameter, color, -1)\n",
    "        else:\n",
    "            print(f\"kp {x},{y} ignored\")\n",
    "\n",
    "    plt.figure(figsize=(8, 8))\n",
    "    plt.axis(\"off\")\n",
    "    plt.imshow(image)\n",
    "\n",
    "\n",
    "vis_keypoints(X[0], y[0].reshape((-1, 2)))"
   ]
  },
  {
   "cell_type": "code",
   "execution_count": null,
   "metadata": {},
   "outputs": [],
   "source": [
    "vis_keypoints(X_val[0], y_val[0].reshape((-1, 2)))"
   ]
  },
  {
   "cell_type": "code",
   "execution_count": null,
   "metadata": {
    "pycharm": {
     "name": "#%%\n"
    }
   },
   "outputs": [],
   "source": [
    "AUTOTUNE = tf.data.experimental.AUTOTUNE\n",
    "\n",
    "ds_alb = train_ds.shuffle(8 * BATCH_SIZE).batch(BATCH_SIZE).prefetch(AUTOTUNE)\n",
    "ds_alb"
   ]
  },
  {
   "cell_type": "code",
   "execution_count": null,
   "metadata": {},
   "outputs": [],
   "source": [
    "y_val.shape"
   ]
  },
  {
   "cell_type": "code",
   "execution_count": null,
   "metadata": {},
   "outputs": [],
   "source": [
    "from datetime import datetime"
   ]
  },
  {
   "cell_type": "code",
   "execution_count": null,
   "metadata": {
    "pycharm": {
     "name": "#%%\n"
    }
   },
   "outputs": [],
   "source": [
    "model = get_model()\n",
    "start = datetime.now()\n",
    "TYPE = 'keypoint_regression'\n",
    "MODEL_NAME = 'efficientnetb0'\n",
    "logdir = f\"tensorboard_logs/{TYPE}/{MODEL_NAME}/run_{start.timestamp()}\"\n",
    "print(logdir)\n",
    "\n",
    "model_path = f'models/{TYPE}/{MODEL_NAME}/run_{start.timestamp()}.h5'\n",
    "\n",
    "model.compile(\n",
    "    loss=tf.keras.losses.mean_squared_error,\n",
    "    optimizer=keras.optimizers.Adam(),\n",
    "    metrics=[\n",
    "        \"mae\",\n",
    "        'mse',\n",
    "        \"mean_absolute_percentage_error\",\n",
    "    ],\n",
    ")\n",
    "model.fit(\n",
    "    X,\n",
    "    y,\n",
    "    validation_data=(X_val, y_val),\n",
    "    epochs=EPOCHS//2,\n",
    "    callbacks = [\n",
    "        tf.keras.callbacks.ModelCheckpoint(\n",
    "            filepath=model_path,\n",
    "            save_weights_only=False,\n",
    "            monitor='val_loss',\n",
    "            save_best_only=True,\n",
    "        ),\n",
    "    ]\n",
    ")"
   ]
  },
  {
   "cell_type": "code",
   "execution_count": null,
   "metadata": {
    "pycharm": {
     "name": "#%%\n"
    }
   },
   "outputs": [],
   "source": [
    "sample_val_images, sample_val_keypoints = X[:1], y[:1]\n",
    "sample_val_keypoints = sample_val_keypoints[0].reshape(-1, 2)\n",
    "predictions = model.predict(sample_val_images).reshape(-1, 2)"
   ]
  },
  {
   "cell_type": "code",
   "execution_count": null,
   "metadata": {},
   "outputs": [],
   "source": [
    "X[:1].shape"
   ]
  },
  {
   "cell_type": "code",
   "execution_count": null,
   "metadata": {
    "pycharm": {
     "name": "#%%\n"
    }
   },
   "outputs": [],
   "source": [
    "# Ground-truth\n",
    "vis_keypoints(sample_val_images[0], sample_val_keypoints)"
   ]
  },
  {
   "cell_type": "code",
   "execution_count": null,
   "metadata": {
    "pycharm": {
     "name": "#%%\n"
    }
   },
   "outputs": [],
   "source": [
    "# Predictions\n",
    "vis_keypoints(sample_val_images[0], predictions)"
   ]
  },
  {
   "cell_type": "code",
   "execution_count": null,
   "metadata": {
    "pycharm": {
     "name": "#%%\n"
    }
   },
   "outputs": [],
   "source": [
    "predictions"
   ]
  },
  {
   "cell_type": "code",
   "execution_count": null,
   "metadata": {},
   "outputs": [],
   "source": [
    "pred = model.predict(sample_val_images)"
   ]
  },
  {
   "cell_type": "code",
   "execution_count": null,
   "metadata": {},
   "outputs": [],
   "source": [
    "pred"
   ]
  },
  {
   "cell_type": "code",
   "execution_count": null,
   "metadata": {},
   "outputs": [],
   "source": [
    "np.mean((y[0] - pred)**2)"
   ]
  },
  {
   "cell_type": "code",
   "execution_count": null,
   "metadata": {},
   "outputs": [],
   "source": [
    "mse = tf.keras.losses.MeanSquaredError()"
   ]
  },
  {
   "cell_type": "code",
   "execution_count": null,
   "metadata": {},
   "outputs": [],
   "source": [
    "mse(y[0],pred).numpy()"
   ]
  },
  {
   "cell_type": "code",
   "execution_count": null,
   "metadata": {},
   "outputs": [],
   "source": [
    "tf.keras.losses.mean_squared_error(y[0],pred).numpy()"
   ]
  },
  {
   "cell_type": "code",
   "execution_count": null,
   "metadata": {},
   "outputs": [],
   "source": [
    "pred = model.predict(X_val)"
   ]
  },
  {
   "cell_type": "code",
   "execution_count": null,
   "metadata": {},
   "outputs": [],
   "source": [
    "pred.shape"
   ]
  },
  {
   "cell_type": "code",
   "execution_count": null,
   "metadata": {},
   "outputs": [],
   "source": [
    "losses = tf.keras.losses.mean_squared_error(y_val,pred).numpy()"
   ]
  },
  {
   "cell_type": "code",
   "execution_count": null,
   "metadata": {},
   "outputs": [],
   "source": [
    "vis_keypoints(X_val[losses.argmax()], y_val[losses.argmax()].reshape((-1, 2)))"
   ]
  },
  {
   "cell_type": "code",
   "execution_count": null,
   "metadata": {},
   "outputs": [],
   "source": [
    "vis_keypoints(X_val[losses.argmax()], pred[losses.argmax()].reshape((-1, 2)))"
   ]
  },
  {
   "cell_type": "code",
   "execution_count": null,
   "metadata": {},
   "outputs": [],
   "source": []
  }
 ],
 "metadata": {
  "kernelspec": {
   "display_name": "Python (tf-watch-metal)",
   "language": "python",
   "name": "tf-watch-metal"
  },
  "language_info": {
   "codemirror_mode": {
    "name": "ipython",
    "version": 3
   },
   "file_extension": ".py",
   "mimetype": "text/x-python",
   "name": "python",
   "nbconvert_exporter": "python",
   "pygments_lexer": "ipython3",
   "version": "3.8.10"
  }
 },
 "nbformat": 4,
 "nbformat_minor": 1
}
