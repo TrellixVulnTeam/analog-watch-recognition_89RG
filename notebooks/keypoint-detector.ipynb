{
 "cells": [
  {
   "cell_type": "code",
   "execution_count": null,
   "metadata": {},
   "outputs": [],
   "source": [
    "import numpy as np\n",
    "from matplotlib import pyplot as plt\n",
    "from tensorflow import keras\n",
    "from tensorflow.keras import layers\n",
    "import tensorflow as tf\n",
    "from pathlib import Path\n",
    "import cv2\n",
    "from functools import partial\n",
    "\n",
    "from watch_recognition.data_preprocessing import load_keypoints_data_as_kp\n",
    "from watch_recognition.augmentations import set_shapes"
   ]
  },
  {
   "cell_type": "code",
   "execution_count": null,
   "metadata": {
    "pycharm": {
     "name": "#%%\n"
    }
   },
   "outputs": [],
   "source": [
    "IMG_SIZE = 224\n",
    "BATCH_SIZE = 64\n",
    "EPOCHS = 100\n",
    "NUM_KEYPOINTS = 4 * 2  # 24 pairs each having x and y coordinates"
   ]
  },
  {
   "cell_type": "code",
   "execution_count": null,
   "metadata": {
    "pycharm": {
     "name": "#%%\n"
    }
   },
   "outputs": [],
   "source": [
    "def get_model():\n",
    "    # Load the pre-trained weights of MobileNetV2 and freeze the weights\n",
    "    backbone = tf.keras.applications.EfficientNetB0(\n",
    "        weights=\"imagenet\", include_top=False, input_shape=(IMG_SIZE, IMG_SIZE, 3)\n",
    "    )\n",
    "    backbone.trainable = True\n",
    "\n",
    "    inputs = layers.Input((IMG_SIZE, IMG_SIZE, 3))\n",
    "    x = keras.applications.efficientnet.preprocess_input(inputs)\n",
    "    x = backbone(x)\n",
    "    x = layers.Conv2D(\n",
    "        1024, kernel_size=5, strides=1, activation=\"relu\"\n",
    "    )(x)\n",
    "    # x = layers.Dropout(0.3)(x)\n",
    "    x = layers.Flatten()(x)\n",
    "    x = layers.Dense(512, activation='relu')(x)\n",
    "    x = layers.Dense(512, activation='relu')(x)\n",
    "    x = layers.Dense(256, activation='relu')(x)\n",
    "    x = layers.Dense(128, activation='relu')(x)\n",
    "    x = layers.Dense(NUM_KEYPOINTS, activation='sigmoid')(x)\n",
    "    # x = layers.SeparableConv2D(\n",
    "    #     NUM_KEYPOINTS, kernel_size=5, strides=1, activation=\"relu\"\n",
    "    # )(x)\n",
    "    # outputs = layers.SeparableConv2D(\n",
    "    #     NUM_KEYPOINTS, kernel_size=3, strides=1, activation=\"sigmoid\"\n",
    "    # )(x)\n",
    "\n",
    "    return keras.Model(inputs, x, name=\"keypoint_detector\")"
   ]
  },
  {
   "cell_type": "code",
   "execution_count": null,
   "metadata": {
    "pycharm": {
     "name": "#%%\n"
    }
   },
   "outputs": [],
   "source": [
    "get_model().summary()"
   ]
  },
  {
   "cell_type": "code",
   "execution_count": null,
   "metadata": {
    "pycharm": {
     "name": "#%%\n"
    }
   },
   "outputs": [],
   "source": [
    "X, y = load_keypoints_data_as_kp(\n",
    "    Path(\"../download_data/keypoints/train\"),\n",
    ")\n",
    "X.shape, y.shape"
   ]
  },
  {
   "cell_type": "code",
   "execution_count": null,
   "metadata": {
    "pycharm": {
     "name": "#%%\n"
    }
   },
   "outputs": [],
   "source": [
    "X_val, y_val = load_keypoints_data_as_kp(\n",
    "    Path(\"../download_data/keypoints/validation\"),\n",
    ")\n",
    "y_val = y_val[:, :2].reshape(-1, NUM_KEYPOINTS) / IMG_SIZE\n",
    "X_val.shape, y_val.shape"
   ]
  },
  {
   "cell_type": "code",
   "execution_count": null,
   "metadata": {
    "pycharm": {
     "name": "#%%\n"
    }
   },
   "outputs": [],
   "source": [
    "\n",
    "dataset = tf.data.Dataset.from_tensor_slices((X, y))"
   ]
  },
  {
   "cell_type": "code",
   "execution_count": null,
   "metadata": {
    "pycharm": {
     "name": "#%%\n"
    }
   },
   "outputs": [],
   "source": [
    "def process_data(image, kp):\n",
    "    image = tf.cast(image, tf.float32)\n",
    "    kp = kp /IMG_SIZE\n",
    "    kp = tf.reshape(kp[:, :2], (-1, NUM_KEYPOINTS))\n",
    "    return image, kp\n",
    "\n",
    "train_ds = dataset.map(process_data)"
   ]
  },
  {
   "cell_type": "code",
   "execution_count": null,
   "metadata": {
    "pycharm": {
     "name": "#%%\n"
    }
   },
   "outputs": [],
   "source": [
    "img, kp = next(iter(train_ds))"
   ]
  },
  {
   "cell_type": "code",
   "execution_count": null,
   "metadata": {
    "pycharm": {
     "name": "#%%\n"
    }
   },
   "outputs": [],
   "source": [
    "kp.numpy().reshape((-1,2))"
   ]
  },
  {
   "cell_type": "code",
   "execution_count": null,
   "metadata": {
    "pycharm": {
     "name": "#%%\n"
    }
   },
   "outputs": [],
   "source": [
    "\n",
    "def vis_keypoints(image, keypoints, color=(0, 255, 0)):\n",
    "    image = image.copy().astype('uint8')\n",
    "    diameter = int(np.mean([image.shape[0], image.shape[1]])/50)\n",
    "    keypoints = keypoints * IMG_SIZE\n",
    "    for kp in keypoints:\n",
    "        x, y, = kp[0], kp[1]\n",
    "        if  2 < x < image.shape[0]-2 and 2 < y <  image.shape[1]-2 :\n",
    "            x_int = int(x)\n",
    "            y_int = int(y)\n",
    "            cv2.circle(image, (x_int, y_int), diameter, color, -1)\n",
    "        else:\n",
    "            print(f\"kp {x},{y} ignored\")\n",
    "\n",
    "    plt.figure(figsize=(8, 8))\n",
    "    plt.axis('off')\n",
    "    plt.imshow(image)\n",
    "vis_keypoints(img.numpy(), kp.numpy().reshape((-1,2)))"
   ]
  },
  {
   "cell_type": "code",
   "execution_count": null,
   "metadata": {
    "pycharm": {
     "name": "#%%\n"
    }
   },
   "outputs": [],
   "source": [
    "AUTOTUNE = tf.data.experimental.AUTOTUNE\n",
    "\n",
    "ds_alb = train_ds.map(\n",
    "    partial(set_shapes, img_shape=(224, 224, 3), target_shape=(1, NUM_KEYPOINTS)),\n",
    "    num_parallel_calls=AUTOTUNE).shuffle(8*BATCH_SIZE).batch(BATCH_SIZE).prefetch(AUTOTUNE)\n",
    "ds_alb"
   ]
  },
  {
   "cell_type": "code",
   "execution_count": null,
   "metadata": {
    "pycharm": {
     "name": "#%%\n"
    }
   },
   "outputs": [],
   "source": [
    "model = get_model()\n",
    "model.compile(loss=\"mse\", optimizer=keras.optimizers.Adam())\n",
    "model.fit(ds_alb, validation_data=(X_val, y_val), epochs=EPOCHS)"
   ]
  },
  {
   "cell_type": "code",
   "execution_count": null,
   "metadata": {
    "pycharm": {
     "name": "#%%\n"
    }
   },
   "outputs": [],
   "source": [
    "sample_val_images, sample_val_keypoints = next(iter(ds_alb))\n",
    "sample_val_images = sample_val_images[:1].numpy()\n",
    "sample_val_keypoints = sample_val_keypoints[0].numpy().reshape(-1, 2)# * IMG_SIZE\n",
    "predictions = model.predict(sample_val_images).reshape(-1, 2)# * IMG_SIZE"
   ]
  },
  {
   "cell_type": "code",
   "execution_count": null,
   "metadata": {
    "pycharm": {
     "name": "#%%\n"
    }
   },
   "outputs": [],
   "source": [
    "# Ground-truth\n",
    "vis_keypoints(sample_val_images[0], sample_val_keypoints)"
   ]
  },
  {
   "cell_type": "code",
   "execution_count": null,
   "metadata": {
    "pycharm": {
     "name": "#%%\n"
    }
   },
   "outputs": [],
   "source": [
    "# Predictions\n",
    "vis_keypoints(sample_val_images[0], predictions)"
   ]
  },
  {
   "cell_type": "code",
   "execution_count": null,
   "metadata": {
    "pycharm": {
     "name": "#%%\n"
    }
   },
   "outputs": [],
   "source": [
    "predictions"
   ]
  }
 ],
 "metadata": {
  "kernelspec": {
   "display_name": "Python (tf-watch-metal)",
   "language": "python",
   "name": "tf-watch-metal"
  },
  "language_info": {
   "codemirror_mode": {
    "name": "ipython",
    "version": 2
   },
   "file_extension": ".py",
   "mimetype": "text/x-python",
   "name": "python",
   "nbconvert_exporter": "python",
   "pygments_lexer": "ipython2",
   "version": "2.7.6"
  }
 },
 "nbformat": 4,
 "nbformat_minor": 0
}
