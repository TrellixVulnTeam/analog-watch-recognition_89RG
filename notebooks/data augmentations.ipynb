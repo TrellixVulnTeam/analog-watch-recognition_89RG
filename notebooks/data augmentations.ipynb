{
 "cells": [
  {
   "cell_type": "code",
   "execution_count": null,
   "metadata": {},
   "outputs": [],
   "source": [
    "%load_ext autoreload\n",
    "%autoreload 2\n",
    "from pathlib import Path\n",
    "import tensorflow as tf\n",
    "from functools import partial\n",
    "\n",
    "from watch_recognition.augmentations import view_image\n",
    "from watch_recognition.data_preprocessing import load_keypoints_data_as_kp"
   ]
  },
  {
   "cell_type": "code",
   "execution_count": null,
   "metadata": {},
   "outputs": [],
   "source": [
    "%matplotlib inline"
   ]
  },
  {
   "cell_type": "code",
   "execution_count": null,
   "metadata": {
    "pycharm": {
     "name": "#%%\n"
    }
   },
   "outputs": [],
   "source": [
    "X, y,_ = load_keypoints_data_as_kp(\n",
    "    Path(\"../download_data/keypoints/train\"),\n",
    ")\n",
    "X.shape, y.shape"
   ]
  },
  {
   "cell_type": "code",
   "execution_count": null,
   "metadata": {
    "pycharm": {
     "name": "#%%\n"
    }
   },
   "outputs": [],
   "source": [
    "from watch_recognition.augmentations import set_shapes, encode_keypoints_to_mask, \\\n",
    "    add_sample_weights\n",
    "\n",
    "dataset = tf.data.Dataset.from_tensor_slices((X, y))\n",
    "\n",
    "AUTOTUNE = tf.data.experimental.AUTOTUNE\n",
    "\n",
    "\n",
    "# dataset = dataset.map(\n",
    "#         process_kp_data,\n",
    "#         num_parallel_calls=AUTOTUNE,\n",
    "# )\n",
    "\n",
    "dataset = dataset.map(\n",
    "        partial(encode_keypoints_to_mask, image_size=(224, 224, 3), mask_size=(28,28), extent=(1,1)),\n",
    "        num_parallel_calls=AUTOTUNE\n",
    ")\n",
    "dataset = dataset.map(\n",
    "    partial(set_shapes, img_shape=(224, 224, 3), target_shape=(28,28, 1)),\n",
    "    num_parallel_calls=AUTOTUNE).batch(32).prefetch(AUTOTUNE)\n",
    "dataset = dataset.map(add_sample_weights)"
   ]
  },
  {
   "cell_type": "code",
   "execution_count": null,
   "metadata": {},
   "outputs": [],
   "source": [
    "view_image(dataset)"
   ]
  },
  {
   "cell_type": "code",
   "execution_count": null,
   "metadata": {
    "pycharm": {
     "name": "#%%"
    }
   },
   "outputs": [],
   "source": []
  }
 ],
 "metadata": {
  "kernelspec": {
   "display_name": "Python (tf-watch-metal)",
   "language": "python",
   "name": "tf-watch-metal"
  },
  "language_info": {
   "codemirror_mode": {
    "name": "ipython",
    "version": 3
   },
   "file_extension": ".py",
   "mimetype": "text/x-python",
   "name": "python",
   "nbconvert_exporter": "python",
   "pygments_lexer": "ipython3",
   "version": "3.8.10"
  }
 },
 "nbformat": 4,
 "nbformat_minor": 1
}
