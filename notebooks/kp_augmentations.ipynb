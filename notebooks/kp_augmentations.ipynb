{
 "cells": [
  {
   "cell_type": "code",
   "execution_count": null,
   "metadata": {},
   "outputs": [],
   "source": [
    "%load_ext autoreload\n",
    "%autoreload 2"
   ]
  },
  {
   "cell_type": "code",
   "execution_count": null,
   "metadata": {
    "pycharm": {
     "name": "#%%\n"
    }
   },
   "outputs": [],
   "source": [
    "from pathlib import Path\n",
    "from watch_recognition.data_preprocessing import load_keypoints_data_as_kp\n",
    "\n",
    "X, y = load_keypoints_data_as_kp(\n",
    "    Path(\"../download_data/keypoints/validation\"),\n",
    ")\n",
    "X.shape, y.shape"
   ]
  },
  {
   "cell_type": "code",
   "execution_count": null,
   "metadata": {
    "pycharm": {
     "name": "#%%\n"
    }
   },
   "outputs": [],
   "source": [
    "import matplotlib.pyplot as plt\n",
    "import cv2\n",
    "import numpy as np\n",
    "def vis_keypoints(image, keypoints, color=(0, 255, 0)):\n",
    "    image = image.copy().astype('uint8')\n",
    "    diameter = int(np.mean([image.shape[0], image.shape[1]])/50)\n",
    "    for kp in keypoints:\n",
    "        x, y, = kp[0], kp[1]\n",
    "        print(x,y)\n",
    "        if  2 < x < image.shape[0]-2 and 2 < y <  image.shape[1]-2 :\n",
    "            x_int = int(x)\n",
    "            y_int = int(y)\n",
    "            cv2.circle(image, (x_int, y_int), diameter, color, -1)\n",
    "        else:\n",
    "            print(f\"kp {x},{y} ignored\")\n",
    "\n",
    "    plt.figure(figsize=(8, 8))\n",
    "    plt.axis('off')\n",
    "    plt.imshow(image)\n",
    "\n",
    "vis_keypoints(X[0], y[0])"
   ]
  },
  {
   "cell_type": "code",
   "execution_count": null,
   "metadata": {
    "pycharm": {
     "name": "#%%\n"
    }
   },
   "outputs": [],
   "source": [
    "image = X[0]\n",
    "keypoints = y[0]\n",
    "import albumentations as A\n",
    "import random\n",
    "random.seed(7)\n",
    "transform = A.Compose([\n",
    "        A.RandomSizedCrop(min_max_height=(128, 224), height=224, width=224, p=0.5),\n",
    "        A.HorizontalFlip(p=0.5),\n",
    "        A.OneOf([\n",
    "            A.HueSaturationValue(p=0.5),\n",
    "            A.RGBShift(p=0.7)\n",
    "        ], p=1),\n",
    "        A.RandomBrightnessContrast(p=0.5)\n",
    "    ],\n",
    "    keypoint_params=A.KeypointParams(format='xyas'),\n",
    ")\n",
    "transformed = transform(image=image, keypoints=keypoints)\n",
    "vis_keypoints(transformed['image'], transformed['keypoints'])"
   ]
  },
  {
   "cell_type": "code",
   "execution_count": null,
   "metadata": {
    "pycharm": {
     "name": "#%%\n"
    }
   },
   "outputs": [],
   "source": [
    "transformed['image'].dtype"
   ]
  },
  {
   "cell_type": "code",
   "execution_count": null,
   "metadata": {
    "pycharm": {
     "name": "#%%\n"
    }
   },
   "outputs": [],
   "source": [
    "import tensorflow as tf\n",
    "dataset = tf.data.Dataset.from_tensor_slices((X, y))\n",
    "\n",
    "from functools import partial"
   ]
  },
  {
   "cell_type": "code",
   "execution_count": null,
   "metadata": {
    "pycharm": {
     "name": "#%%\n"
    }
   },
   "outputs": [],
   "source": [
    "image, kp = next(iter(dataset))\n",
    "image = image.numpy()\n",
    "kp = kp.numpy()\n",
    "vis_keypoints(image, kp)"
   ]
  },
  {
   "cell_type": "code",
   "execution_count": null,
   "metadata": {
    "pycharm": {
     "name": "#%%\n"
    }
   },
   "outputs": [],
   "source": [
    "AUTOTUNE = tf.data.experimental.AUTOTUNE"
   ]
  },
  {
   "cell_type": "code",
   "execution_count": null,
   "metadata": {
    "pycharm": {
     "name": "#%%\n"
    }
   },
   "outputs": [],
   "source": [
    "print(y.shape)"
   ]
  },
  {
   "cell_type": "code",
   "execution_count": null,
   "metadata": {
    "pycharm": {
     "name": "#%%\n"
    }
   },
   "outputs": [],
   "source": [
    "from watch_recognition.augmentations import process_kp_data, set_shapes\n",
    "\n",
    "ds_alb = dataset.map(process_kp_data, num_parallel_calls=AUTOTUNE).prefetch(AUTOTUNE)\n",
    "\n",
    "\n",
    "ds_alb = ds_alb.map(\n",
    "    partial(set_shapes, img_shape=(224, 224, 3), target_shape=tuple(y.shape)[1:]),\n",
    "    num_parallel_calls=AUTOTUNE).prefetch(AUTOTUNE)\n",
    "ds_alb"
   ]
  },
  {
   "cell_type": "code",
   "execution_count": null,
   "metadata": {
    "pycharm": {
     "name": "#%%\n"
    }
   },
   "outputs": [],
   "source": [
    "image, kp = next(iter(ds_alb))\n",
    "image = image.numpy()\n",
    "kp = kp.numpy()\n",
    "vis_keypoints(image, kp)"
   ]
  },
  {
   "cell_type": "code",
   "execution_count": null,
   "metadata": {
    "pycharm": {
     "name": "#%%\n"
    }
   },
   "outputs": [],
   "source": []
  }
 ],
 "metadata": {
  "kernelspec": {
   "display_name": "Python (tf-watch-metal)",
   "language": "python",
   "name": "tf-watch-metal"
  },
  "language_info": {
   "codemirror_mode": {
    "name": "ipython",
    "version": 2
   },
   "file_extension": ".py",
   "mimetype": "text/x-python",
   "name": "python",
   "nbconvert_exporter": "python",
   "pygments_lexer": "ipython2",
   "version": "2.7.6"
  }
 },
 "nbformat": 4,
 "nbformat_minor": 0
}
