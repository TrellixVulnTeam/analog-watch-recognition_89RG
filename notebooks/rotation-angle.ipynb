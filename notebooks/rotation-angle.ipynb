{
 "cells": [
  {
   "cell_type": "code",
   "execution_count": null,
   "metadata": {},
   "outputs": [],
   "source": [
    "%load_ext autoreload\n",
    "%autoreload 2\n",
    "import tensorflow as tf\n",
    "from pathlib import Path"
   ]
  },
  {
   "cell_type": "code",
   "execution_count": null,
   "metadata": {
    "pycharm": {
     "name": "#%%\n"
    }
   },
   "outputs": [],
   "source": [
    "from datetime import datetime\n",
    "from watch_recognition.data_preprocessing import load_keypoints_data_as_kp\n",
    "image_size=(96,96)\n",
    "ROOT_DIR = \"..\"\n",
    "X, y, _ = load_keypoints_data_as_kp(\n",
    "    Path(\"%s/download_data/keypoints/train\" % ROOT_DIR),\n",
    "        image_size=image_size,\n",
    ")\n",
    "X.shape, y.shape"
   ]
  },
  {
   "cell_type": "code",
   "execution_count": null,
   "metadata": {},
   "outputs": [],
   "source": [
    "X_val, y_val, _ = load_keypoints_data_as_kp(\n",
    "    Path(\"%s/download_data/keypoints/validation\" % ROOT_DIR),image_size=image_size,\n",
    ")\n",
    "X_val.shape, y_val.shape"
   ]
  },
  {
   "cell_type": "code",
   "execution_count": null,
   "metadata": {
    "pycharm": {
     "name": "#%%\n"
    }
   },
   "outputs": [],
   "source": [
    "import matplotlib.pyplot as plt\n",
    "import numpy as np\n",
    "%matplotlib inline"
   ]
  },
  {
   "cell_type": "code",
   "execution_count": null,
   "metadata": {
    "pycharm": {
     "name": "#%%\n"
    }
   },
   "outputs": [],
   "source": [
    "example_idx = 11\n",
    "example_X = X[example_idx]\n",
    "example_y = y[example_idx]\n",
    "plt.imshow(example_X)"
   ]
  },
  {
   "cell_type": "code",
   "execution_count": null,
   "metadata": {
    "pycharm": {
     "name": "#%%\n"
    }
   },
   "outputs": [],
   "source": [
    "center = example_y[0,:2]\n",
    "top = example_y[1,:2] - center\n",
    "center = center - center"
   ]
  },
  {
   "cell_type": "code",
   "execution_count": null,
   "metadata": {},
   "outputs": [],
   "source": [
    "top = top / image_size[0]"
   ]
  },
  {
   "cell_type": "code",
   "execution_count": null,
   "metadata": {
    "pycharm": {
     "name": "#%%\n"
    }
   },
   "outputs": [],
   "source": [
    "reference_vector = np.array([0,-0.5])"
   ]
  },
  {
   "cell_type": "code",
   "execution_count": null,
   "metadata": {
    "pycharm": {
     "name": "#%%\n"
    }
   },
   "outputs": [],
   "source": [
    "angle = (\n",
    "        np.rad2deg(np.arctan2(*top) - np.arctan2(*reference_vector))\n",
    "    )\n"
   ]
  },
  {
   "cell_type": "code",
   "execution_count": null,
   "metadata": {},
   "outputs": [],
   "source": [
    "angle"
   ]
  },
  {
   "cell_type": "code",
   "execution_count": null,
   "metadata": {},
   "outputs": [],
   "source": [
    "top"
   ]
  },
  {
   "cell_type": "code",
   "execution_count": null,
   "metadata": {},
   "outputs": [],
   "source": [
    "plt.imshow(example_X)\n",
    "plt.scatter(*(center + image_size[0]//2))\n",
    "plt.scatter(*((top * image_size[0]) + image_size[0]//2))\n",
    "plt.scatter(*((reference_vector * image_size[0]) + image_size[0]//2))"
   ]
  },
  {
   "cell_type": "code",
   "execution_count": null,
   "metadata": {},
   "outputs": [],
   "source": [
    "from skimage.transform import rotate"
   ]
  },
  {
   "cell_type": "code",
   "execution_count": null,
   "metadata": {},
   "outputs": [],
   "source": [
    "rotated_image = (rotate(example_X, -angle) * 255).astype('uint8')\n",
    "plt.imshow(rotated_image)"
   ]
  },
  {
   "cell_type": "code",
   "execution_count": null,
   "metadata": {},
   "outputs": [],
   "source": [
    "\n",
    "import tensorflow as tf\n",
    "# model_path = \"./models/keypoint/efficientnetb0-unet-sigmoid/run_1634926149.773875.h5\"\n",
    "# loaded_model = tf.keras.models.load_model(model_path, compile=False)"
   ]
  },
  {
   "cell_type": "code",
   "execution_count": null,
   "metadata": {},
   "outputs": [],
   "source": [
    "# from watch_recognition.reports import run_on_image_debug\n",
    "# run_on_image_debug(loaded_model, example_X)"
   ]
  },
  {
   "cell_type": "code",
   "execution_count": null,
   "metadata": {},
   "outputs": [],
   "source": [
    "plt.imshow(rotated_image)"
   ]
  },
  {
   "cell_type": "code",
   "execution_count": null,
   "metadata": {},
   "outputs": [],
   "source": [
    "# run_on_image_debug(loaded_model, rotated_image)"
   ]
  },
  {
   "cell_type": "code",
   "execution_count": null,
   "metadata": {},
   "outputs": [],
   "source": [
    "from watch_recognition.data_preprocessing import keypoints_to_angle, binarize"
   ]
  },
  {
   "cell_type": "code",
   "execution_count": null,
   "metadata": {},
   "outputs": [],
   "source": [
    "from itertools import product"
   ]
  },
  {
   "cell_type": "code",
   "execution_count": null,
   "metadata": {},
   "outputs": [],
   "source": [
    "xs = np.linspace(0,1, 20)\n",
    "ys = np.linspace(0,1, 20)\n",
    "center = np.array([0.5,0.5])\n",
    "angles = []\n",
    "for x_i, y_i in product(xs, ys):\n",
    "    top = np.array([x_i, y_i])\n",
    "    angle = keypoints_to_angle(center, top)\n",
    "    angles.append(angle)\n",
    "plt.hist(angles, bins=36)"
   ]
  },
  {
   "cell_type": "code",
   "execution_count": null,
   "metadata": {},
   "outputs": [],
   "source": [
    "from distinctipy import distinctipy\n",
    "\n",
    "# number of colours to generate\n",
    "bin_size = 45\n",
    "N = 360 // bin_size\n",
    "\n",
    "# generate N visually distinct colours\n",
    "colors = distinctipy.get_colors(N)\n",
    "\n",
    "# display the colours\n",
    "distinctipy.color_swatch(colors)\n",
    "\n",
    "xs = np.linspace(0,1, 20)\n",
    "ys = np.linspace(0,1, 20)\n",
    "center = np.array([0.5,0.5])\n",
    "angles = []\n",
    "for x_i, y_i in product(xs, ys):\n",
    "    top = np.array([x_i, y_i])\n",
    "    angle = keypoints_to_angle(center, top)\n",
    "    angles.append(angle)\n",
    "    cls = binarize(angle, bin_size)\n",
    "    plt.scatter(x_i,y_i, color=colors[cls])"
   ]
  },
  {
   "cell_type": "code",
   "execution_count": null,
   "metadata": {},
   "outputs": [],
   "source": [
    "from tensorflow.python.keras.utils.np_utils import to_categorical"
   ]
  },
  {
   "cell_type": "code",
   "execution_count": null,
   "metadata": {},
   "outputs": [],
   "source": [
    "def encode_targets(y, bin_size=10):\n",
    "    y_targets = []\n",
    "    for y_ in y:\n",
    "        center =y_[0,:2]\n",
    "        top = y_[1,:2]\n",
    "        angle = keypoints_to_angle(center, top)\n",
    "        angle = binarize(angle, bin_size)\n",
    "        angle_one_hot = to_categorical(angle, num_classes=360 // bin_size)\n",
    "        y_targets.append(angle_one_hot)\n",
    "    return np.array(y_targets).astype('float32')"
   ]
  },
  {
   "cell_type": "code",
   "execution_count": null,
   "metadata": {},
   "outputs": [],
   "source": [
    "y_targets = encode_targets(y, bin_size=bin_size)"
   ]
  },
  {
   "cell_type": "code",
   "execution_count": null,
   "metadata": {},
   "outputs": [],
   "source": [
    "plt.hist(y_targets.argmax(axis=1))\n",
    "plt.show()"
   ]
  },
  {
   "cell_type": "code",
   "execution_count": null,
   "metadata": {},
   "outputs": [],
   "source": [
    "for kp, cls in zip(y, y_targets.argmax(axis=1)):\n",
    "    top = kp[1,:2]\n",
    "    plt.scatter(*top, color=colors[cls])\n",
    "plt.gca().invert_yaxis()"
   ]
  },
  {
   "cell_type": "code",
   "execution_count": null,
   "metadata": {},
   "outputs": [],
   "source": [
    "import pandas as pd"
   ]
  },
  {
   "cell_type": "code",
   "execution_count": null,
   "metadata": {},
   "outputs": [],
   "source": [
    "pd.value_counts(pd.Series(y_targets.argmax(axis=1)), normalize=True)"
   ]
  },
  {
   "cell_type": "code",
   "execution_count": null,
   "metadata": {},
   "outputs": [],
   "source": [
    "y_targets_val = encode_targets(y_val, bin_size=bin_size)"
   ]
  },
  {
   "cell_type": "code",
   "execution_count": null,
   "metadata": {},
   "outputs": [],
   "source": [
    "plt.hist(y_targets_val.argmax(axis=1))"
   ]
  },
  {
   "cell_type": "code",
   "execution_count": null,
   "metadata": {
    "pycharm": {
     "name": "#%%\n"
    }
   },
   "outputs": [],
   "source": [
    "import ipyplot"
   ]
  },
  {
   "cell_type": "code",
   "execution_count": null,
   "metadata": {
    "pycharm": {
     "name": "#%%\n"
    }
   },
   "outputs": [],
   "source": [
    "# ipyplot.plot_class_tabs(X, y_targets.argmax(axis=1))"
   ]
  },
  {
   "cell_type": "code",
   "execution_count": null,
   "metadata": {
    "pycharm": {
     "name": "#%%\n"
    }
   },
   "outputs": [],
   "source": [
    "# ipyplot.plot_class_tabs(X_val, y_targets_val.argmax(axis=1))"
   ]
  },
  {
   "cell_type": "code",
   "execution_count": null,
   "metadata": {},
   "outputs": [],
   "source": [
    "for kp, cls in zip(y_val, y_targets_val.argmax(axis=1)):\n",
    "    top = kp[1,:2]\n",
    "    plt.scatter(*top, color=colors[cls])\n",
    "plt.gca().invert_yaxis()"
   ]
  },
  {
   "cell_type": "code",
   "execution_count": null,
   "metadata": {},
   "outputs": [],
   "source": [
    "from keras.applications.efficientnet import DENSE_KERNEL_INITIALIZER\n",
    "\n",
    "model = tf.keras.applications.EfficientNetB0(\n",
    "    weights=\"imagenet\",  # Load weights pre-trained on ImageNet.\n",
    "    input_shape=(*image_size, 3),\n",
    "        classes=N,\n",
    "    include_top=False,\n",
    ")\n",
    "inputs = tf.keras.Input(\n",
    "    shape=(*image_size, 3),\n",
    ")\n",
    "\n",
    "x = model(inputs)\n",
    "x = tf.keras.layers.GlobalAveragePooling2D(name='avg_pool')(x)\n",
    "x = tf.keras.layers.Dropout(0.2, name='top_dropout')(x)\n",
    "output = tf.keras.layers.Dense(\n",
    "        N,\n",
    "        activation='softmax',\n",
    "        kernel_initializer=DENSE_KERNEL_INITIALIZER,\n",
    "        name='predictions')(x)\n",
    "model = tf.keras.models.Model(inputs=inputs, outputs=output)"
   ]
  },
  {
   "cell_type": "code",
   "execution_count": null,
   "metadata": {},
   "outputs": [],
   "source": [
    "model.summary()"
   ]
  },
  {
   "cell_type": "code",
   "execution_count": null,
   "metadata": {},
   "outputs": [],
   "source": [
    "model.compile(\n",
    "    loss=tf.keras.losses.CategoricalCrossentropy(label_smoothing=0.1),\n",
    "    metrics=[\n",
    "        \"acc\",\n",
    "    ],\n",
    "    optimizer=tf.keras.optimizers.Adam(3e-4)\n",
    ")\n"
   ]
  },
  {
   "cell_type": "code",
   "execution_count": null,
   "metadata": {},
   "outputs": [],
   "source": [
    "from watch_recognition.datasets import get_watch_angle_dataset\n",
    "\n",
    "dataset = get_watch_angle_dataset(X, y, bin_size=bin_size, augment=True, image_size=image_size)"
   ]
  },
  {
   "cell_type": "code",
   "execution_count": null,
   "metadata": {},
   "outputs": [],
   "source": [
    "angles = []\n",
    "for batch in dataset.take(32*17):\n",
    "    angles.extend(batch[1].numpy().argmax(axis=1).flatten())\n",
    "plt.hist(angles, bins=8)"
   ]
  },
  {
   "cell_type": "code",
   "execution_count": null,
   "metadata": {},
   "outputs": [],
   "source": [
    "def view_image(ds):\n",
    "    image, angles = next(iter(ds))  # extract 1 batch from the dataset\n",
    "    image = image.numpy()\n",
    "    angles = angles.numpy().argmax(axis=1)\n",
    "    fig, axarr = plt.subplots(5, 2, figsize=(15, 15))\n",
    "    for i in range(5):\n",
    "        ax = axarr[i]\n",
    "        img = image[i]\n",
    "        ax_idx = 0\n",
    "        ax[ax_idx].imshow(img.astype(\"uint8\"))\n",
    "        ax[ax_idx].set_xticks([])\n",
    "        ax[ax_idx].set_yticks([])\n",
    "        ax[ax_idx].set_title(\"Image\")\n",
    "\n",
    "        ax_idx += 1\n",
    "        rotated_image = rotate(img.astype('float32'), -angles[i]*45)\n",
    "        ax[ax_idx].imshow(rotated_image.astype('uint8'))\n",
    "        ax[ax_idx].set_xticks([])\n",
    "        ax[ax_idx].set_yticks([])\n",
    "        ax[ax_idx].set_title(\"Corrected angle\")\n",
    "view_image(dataset)"
   ]
  },
  {
   "cell_type": "code",
   "execution_count": null,
   "metadata": {},
   "outputs": [],
   "source": [
    "# TYPE = \"angle-classifier\"\n",
    "# MODEL_NAME = f\"efficientnetb0-{N}\"\n",
    "# start = datetime.now()\n",
    "#\n",
    "# logdir = f\"tensorboard_logs/{TYPE}/{MODEL_NAME}/run_{start.timestamp()}\"\n",
    "# print(logdir)\n",
    "#\n",
    "# model_path = f\"models/{TYPE}/{MODEL_NAME}/run_{start.timestamp()}\"\n",
    "\n",
    "EPOCHS = 30\n",
    "history = model.fit(\n",
    "    dataset,\n",
    "    initial_epoch=60,\n",
    "    epochs=EPOCHS*3,\n",
    "    validation_data=(X_val, y_targets_val),\n",
    "    callbacks = [\n",
    "        tf.keras.callbacks.TensorBoard(\n",
    "            log_dir=logdir,\n",
    "            update_freq=\"epoch\",\n",
    "        ),\n",
    "        tf.keras.callbacks.ModelCheckpoint(\n",
    "            filepath=model_path,\n",
    "            save_weights_only=False,\n",
    "            monitor=\"val_loss\",\n",
    "            save_best_only=True,\n",
    "        ),\n",
    "        tf.keras.callbacks.ReduceLROnPlateau(\n",
    "            monitor=\"val_loss\",\n",
    "            factor=0.8,\n",
    "            patience=5,  # todo change to 10\n",
    "            min_lr=1e-6,\n",
    "            cooldown=3,\n",
    "            verbose=1,\n",
    "        ),\n",
    "        ]\n",
    ")"
   ]
  },
  {
   "cell_type": "code",
   "execution_count": null,
   "metadata": {},
   "outputs": [],
   "source": [
    "history = model.history"
   ]
  },
  {
   "cell_type": "code",
   "execution_count": null,
   "metadata": {},
   "outputs": [],
   "source": [
    "plt.plot(history.history['loss'])\n",
    "plt.plot(history.history['val_loss'])\n",
    "# plt.yscale('log')"
   ]
  },
  {
   "cell_type": "code",
   "execution_count": null,
   "metadata": {},
   "outputs": [],
   "source": [
    "plt.plot(history.history['acc'])\n",
    "plt.plot(history.history['val_acc'])"
   ]
  },
  {
   "cell_type": "code",
   "execution_count": null,
   "metadata": {},
   "outputs": [],
   "source": [
    "for i in range(10):\n",
    "    example = X[i:i+1]\n",
    "    pred = model.predict(example).argmax(axis=1) *bin_size\n",
    "    print(pred, y_targets[i:i+1]*bin_size)\n",
    "    rotated_image = (rotate(example[0], -pred[0]) * 255).astype('uint8')\n",
    "    plt.imshow(example[0])\n",
    "    plt.show()\n",
    "    plt.imshow(rotated_image)\n",
    "    plt.show()"
   ]
  },
  {
   "cell_type": "code",
   "execution_count": null,
   "metadata": {},
   "outputs": [],
   "source": [
    "for i in range(10):\n",
    "    example = X_val[i:i+1]\n",
    "    pred = model.predict(example).argmax(axis=1) *bin_size\n",
    "    print(y_targets_val[i:i+1]*bin_size, pred)\n",
    "    rotated_image = (rotate(example[0], -pred[0]) * 255).astype('uint8')\n",
    "    plt.imshow(example[0])\n",
    "    plt.show()\n",
    "    plt.imshow(rotated_image)\n",
    "    plt.show()"
   ]
  },
  {
   "cell_type": "code",
   "execution_count": null,
   "metadata": {},
   "outputs": [],
   "source": [
    "bad_train_predictions = X[y_targets.argmax(axis=1) != model.predict(X).argmax(axis=1)]"
   ]
  },
  {
   "cell_type": "code",
   "execution_count": null,
   "metadata": {},
   "outputs": [],
   "source": [
    "1 - len(bad_train_predictions) / len(X)"
   ]
  },
  {
   "cell_type": "code",
   "execution_count": null,
   "metadata": {},
   "outputs": [],
   "source": [
    "bad_train_predictions.shape"
   ]
  },
  {
   "cell_type": "code",
   "execution_count": null,
   "metadata": {},
   "outputs": [],
   "source": [
    "bad_val_predictions = X_val[y_targets_val.argmax(axis=1) != model.predict(X_val).argmax(axis=1)]"
   ]
  },
  {
   "cell_type": "code",
   "execution_count": null,
   "metadata": {},
   "outputs": [],
   "source": [
    "bad_val_predictions.shape"
   ]
  },
  {
   "cell_type": "code",
   "execution_count": null,
   "metadata": {},
   "outputs": [],
   "source": [
    "1 - len(bad_val_predictions) / len(X_val)"
   ]
  },
  {
   "cell_type": "code",
   "execution_count": null,
   "metadata": {},
   "outputs": [],
   "source": [
    "len(bad_val_predictions)"
   ]
  },
  {
   "cell_type": "code",
   "execution_count": null,
   "metadata": {},
   "outputs": [],
   "source": [
    "model.save(f\"rotation-model-effnetb0-cls-{N}\")"
   ]
  },
  {
   "cell_type": "code",
   "execution_count": null,
   "metadata": {},
   "outputs": [],
   "source": [
    "path = '../example_data/Zrzut ekranu 2021-08-25 o 22.24.24.jpg'\n",
    "test_image = tf.keras.preprocessing.image.load_img(\n",
    "        path, \"rgb\", target_size=image_size, interpolation=\"bicubic\",\n",
    "    )\n",
    "test_image_np = tf.keras.preprocessing.image.img_to_array(test_image)"
   ]
  },
  {
   "cell_type": "code",
   "execution_count": null,
   "metadata": {
    "pycharm": {
     "name": "#%%\n"
    }
   },
   "outputs": [],
   "source": [
    "print(model_path)\n",
    "loaded_model = tf.keras.models.load_model(model_path, compile=False)\n"
   ]
  },
  {
   "cell_type": "code",
   "execution_count": null,
   "metadata": {},
   "outputs": [],
   "source": [
    "for a in np.linspace(0, 360, 10):\n",
    "    fig, axarr = plt.subplots(1, 2, figsize=(15,15))\n",
    "    rotated_image = np.expand_dims((rotate(test_image_np.astype('float32'), a)).astype('uint8'), axis=0)\n",
    "    pred = loaded_model.predict(rotated_image).argmax(axis=1) * bin_size\n",
    "    print(a,pred[0])\n",
    "    axarr[0].imshow(rotated_image[0])\n",
    "    rotated_image = (rotate(rotated_image[0].astype('float32'), -pred[0])).astype('uint8')\n",
    "    axarr[1].imshow(rotated_image)\n",
    "    # run_on_image_debug(loaded_model, rotated_image)\n",
    "\n",
    "    plt.show()\n",
    "    "
   ]
  },
  {
   "cell_type": "code",
   "execution_count": null,
   "metadata": {},
   "outputs": [],
   "source": []
  },
  {
   "cell_type": "code",
   "execution_count": null,
   "metadata": {},
   "outputs": [],
   "source": []
  },
  {
   "cell_type": "code",
   "execution_count": null,
   "metadata": {},
   "outputs": [],
   "source": []
  }
 ],
 "metadata": {
  "kernelspec": {
   "display_name": "Python (tf-watch-metal)",
   "language": "python",
   "name": "tf-watch-metal"
  },
  "language_info": {
   "codemirror_mode": {
    "name": "ipython",
    "version": 3
   },
   "file_extension": ".py",
   "mimetype": "text/x-python",
   "name": "python",
   "nbconvert_exporter": "python",
   "pygments_lexer": "ipython3",
   "version": "3.8.10"
  }
 },
 "nbformat": 4,
 "nbformat_minor": 1
}
