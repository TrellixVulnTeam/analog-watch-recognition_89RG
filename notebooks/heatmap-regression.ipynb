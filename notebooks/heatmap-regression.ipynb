{
 "cells": [
  {
   "cell_type": "code",
   "execution_count": null,
   "metadata": {
    "pycharm": {
     "name": "#%%\n"
    }
   },
   "outputs": [],
   "source": [
    "import os\n",
    "os.environ['SM_FRAMEWORK'] = 'tf.keras'"
   ]
  },
  {
   "cell_type": "code",
   "execution_count": null,
   "metadata": {
    "pycharm": {
     "name": "#%%\n"
    }
   },
   "outputs": [],
   "source": [
    "%load_ext autoreload\n",
    "%autoreload 2\n",
    "from datetime import datetime\n",
    "from pathlib import Path\n",
    "import tensorflow as tf\n",
    "from watch_recognition.reports import run_on_image_debug, log_scalar_metrics\n",
    "from watch_recognition.data_preprocessing import load_keypoints_data_as_kp\n",
    "from functools import partial\n",
    "from watch_recognition.datasets import get_watch_keypoints_dataset, view_image\n",
    "import segmentation_models as sm\n",
    "from watch_recognition.models import get_unet_model, IouLoss2\n",
    "\n",
    "%matplotlib inline\n",
    "\n",
    "ROOT_DIR = Path(\"..\")\n",
    "SAVE_DIR = Path(\"..\")\n",
    "EPOCHS = 100\n",
    "image_size = (128, 128)\n",
    "mask_size = image_size"
   ]
  },
  {
   "cell_type": "code",
   "execution_count": null,
   "metadata": {
    "pycharm": {
     "name": "#%%\n"
    }
   },
   "outputs": [],
   "source": []
  },
  {
   "cell_type": "code",
   "execution_count": null,
   "metadata": {
    "pycharm": {
     "name": "#%%\n"
    }
   },
   "outputs": [],
   "source": [
    "X, y, _ = load_keypoints_data_as_kp(\n",
    "    ROOT_DIR / \"keypoints/train\",\n",
    "    autorotate=True,\n",
    "    image_size=image_size,\n",
    ")\n",
    "X.shape, y.shape"
   ]
  },
  {
   "cell_type": "code",
   "execution_count": null,
   "metadata": {
    "pycharm": {
     "name": "#%%\n"
    }
   },
   "outputs": [],
   "source": [
    "X_val, y_val, _ = load_keypoints_data_as_kp(\n",
    "    ROOT_DIR / \"keypoints/validation\",\n",
    "    autorotate=True,\n",
    "    image_size=image_size,\n",
    ")\n",
    "X_val.shape, y_val.shape"
   ]
  },
  {
   "cell_type": "code",
   "execution_count": null,
   "metadata": {
    "pycharm": {
     "name": "#%%\n"
    }
   },
   "outputs": [],
   "source": [
    "dataset_train = get_watch_keypoints_dataset(X, y, augment=False, image_size=image_size,\n",
    "                                            mask_size=mask_size)"
   ]
  },
  {
   "cell_type": "code",
   "execution_count": null,
   "metadata": {
    "pycharm": {
     "name": "#%%\n"
    }
   },
   "outputs": [],
   "source": [
    "view_image(dataset_train)"
   ]
  },
  {
   "cell_type": "code",
   "execution_count": null,
   "metadata": {
    "pycharm": {
     "name": "#%%\n"
    }
   },
   "outputs": [],
   "source": [
    "dataset_val = get_watch_keypoints_dataset(X_val, y_val, augment=False, image_size=image_size,\n",
    "                                            mask_size=mask_size)"
   ]
  },
  {
   "cell_type": "code",
   "execution_count": null,
   "metadata": {
    "pycharm": {
     "name": "#%%\n"
    }
   },
   "outputs": [],
   "source": [
    "view_image(dataset_val)\n"
   ]
  },
  {
   "cell_type": "code",
   "execution_count": null,
   "metadata": {
    "pycharm": {
     "name": "#%%\n"
    }
   },
   "outputs": [],
   "source": [
    "model = get_unet_model(\n",
    "    unet_output_layer=None,\n",
    "    image_size=image_size,\n",
    "    n_outputs=3,\n",
    "    output_activation='sigmoid',\n",
    ")"
   ]
  },
  {
   "cell_type": "code",
   "execution_count": null,
   "metadata": {
    "pycharm": {
     "name": "#%%\n"
    }
   },
   "outputs": [],
   "source": [
    "model.summary()"
   ]
  },
  {
   "cell_type": "code",
   "execution_count": null,
   "metadata": {
    "pycharm": {
     "name": "#%%\n"
    }
   },
   "outputs": [],
   "source": [
    "loss = IouLoss2()\n",
    "optimizer = tf.keras.optimizers.Adam()\n",
    "metrics = [sm.metrics.IOUScore(threshold=0.1), sm.metrics.FScore(threshold=0.1)]\n",
    "TYPE = \"keypoint\"\n",
    "MODEL_NAME = \"efficientnetb0-unet-sigmoid-128\""
   ]
  },
  {
   "cell_type": "code",
   "execution_count": null,
   "metadata": {
    "pycharm": {
     "name": "#%%\n"
    }
   },
   "outputs": [],
   "source": [
    "model.compile(\n",
    "    loss=loss,\n",
    "    optimizer=optimizer,\n",
    "    metrics=metrics,\n",
    ")\n",
    "\n",
    "start = datetime.now()\n",
    "\n",
    "logdir = SAVE_DIR / f\"tensorboard_logs/{TYPE}/{MODEL_NAME}/run_{start.timestamp()}\"\n",
    "print(logdir)\n",
    "file_writer_distance_metrics_train = tf.summary.create_file_writer(logdir + \"/train\")\n",
    "file_writer_distance_metrics_validation = tf.summary.create_file_writer(\n",
    "    logdir + \"/validation\"\n",
    ")\n",
    "\n",
    "model_path = SAVE_DIR / f\"models/{TYPE}/{MODEL_NAME}/run_{start.timestamp()}\"\n",
    "model.fit(\n",
    "    dataset_train,\n",
    "    epochs=EPOCHS,\n",
    "    validation_data=dataset_val,\n",
    "    callbacks=[\n",
    "        tf.keras.callbacks.TensorBoard(\n",
    "            log_dir=logdir,\n",
    "            update_freq=\"epoch\",\n",
    "        ),\n",
    "        tf.keras.callbacks.ModelCheckpoint(\n",
    "            filepath=model_path,\n",
    "            save_weights_only=False,\n",
    "            monitor=\"val_loss\",\n",
    "            save_best_only=True,\n",
    "        ),\n",
    "        tf.keras.callbacks.ReduceLROnPlateau(\n",
    "            monitor=\"val_loss\",\n",
    "            factor=0.8,\n",
    "            patience=5,\n",
    "            min_lr=1e-6,\n",
    "            cooldown=3,\n",
    "            verbose=1,\n",
    "        ),\n",
    "        tf.keras.callbacks.LambdaCallback(\n",
    "            on_epoch_end=partial(\n",
    "                log_scalar_metrics,\n",
    "                X=X,\n",
    "                y=y,\n",
    "                file_writer=file_writer_distance_metrics_train,\n",
    "                model=model,\n",
    "            )\n",
    "        ),\n",
    "        tf.keras.callbacks.LambdaCallback(\n",
    "            on_epoch_end=partial(\n",
    "                log_scalar_metrics,\n",
    "                X=X_val,\n",
    "                y=y_val,\n",
    "                file_writer=file_writer_distance_metrics_validation,\n",
    "                model=model,\n",
    "            )\n",
    "        ),\n",
    "    ],\n",
    ")\n",
    "elapsed = (datetime.now() - start).seconds\n",
    "print(\n",
    "    f\"total training time: {elapsed / 60} minutes, average: {elapsed / 60 / EPOCHS} minutes/epoch\"\n",
    ")"
   ]
  },
  {
   "cell_type": "code",
   "execution_count": null,
   "metadata": {
    "pycharm": {
     "name": "#%%\n"
    }
   },
   "outputs": [],
   "source": [
    "train_X, train_y = next(iter(dataset_train))\n",
    "train_X, train_y = train_X.numpy(), train_y.numpy()\n",
    "\n",
    "run_on_image_debug(model, train_X[0])"
   ]
  },
  {
   "cell_type": "code",
   "execution_count": null,
   "metadata": {
    "pycharm": {
     "name": "#%%\n"
    }
   },
   "outputs": [],
   "source": [
    "for image in X_val[10:20]:\n",
    "    run_on_image_debug(model, image)"
   ]
  },
  {
   "cell_type": "code",
   "execution_count": null,
   "metadata": {
    "pycharm": {
     "name": "#%%\n"
    }
   },
   "outputs": [],
   "source": [
    "print(model_path)\n",
    "loaded_model = tf.keras.models.load_model(model_path, compile=False)\n",
    "\n",
    "\n",
    "for image in X[10:20]:\n",
    "    run_on_image_debug(loaded_model, image)"
   ]
  },
  {
   "cell_type": "code",
   "execution_count": null,
   "metadata": {
    "pycharm": {
     "name": "#%%\n"
    }
   },
   "outputs": [],
   "source": [
    "for image in X_val[10:20]:\n",
    "    run_on_image_debug(loaded_model, image)\n",
    "\n"
   ]
  },
  {
   "cell_type": "code",
   "execution_count": null,
   "metadata": {
    "pycharm": {
     "name": "#%%\n"
    }
   },
   "outputs": [],
   "source": []
  }
 ],
 "metadata": {
  "kernelspec": {
   "display_name": "Python (tf-watch-metal)",
   "language": "python",
   "name": "tf-watch-metal"
  },
  "language_info": {
   "codemirror_mode": {
    "name": "ipython",
    "version": 3
   },
   "file_extension": ".py",
   "mimetype": "text/x-python",
   "name": "python",
   "nbconvert_exporter": "python",
   "pygments_lexer": "ipython3",
   "version": "3.8.10"
  }
 },
 "nbformat": 4,
 "nbformat_minor": 1
}
