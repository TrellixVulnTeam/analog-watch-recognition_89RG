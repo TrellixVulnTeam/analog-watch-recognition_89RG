{
 "cells": [
  {
   "cell_type": "code",
   "execution_count": null,
   "metadata": {},
   "outputs": [],
   "source": [
    "%load_ext autoreload\n",
    "%autoreload 2\n",
    "import os\n",
    "# os.environ[\"KERAS_BACKEND\"] = \"plaidml.keras.backend\"\n",
    "\n",
    "import pandas as pd"
   ]
  },
  {
   "cell_type": "code",
   "execution_count": null,
   "metadata": {
    "pycharm": {
     "name": "#%%\n"
    }
   },
   "outputs": [],
   "source": [
    "import tensorflow as tf\n",
    "from IPython.core.display import display\n",
    "from pathlib import Path\n",
    "\n",
    "from watch_recognition.data_preprocessing import load_data, unison_shuffled_copies, \\\n",
    "    preprocess_targets, load_synthethic_data\n",
    "from watch_recognition.models import get_model, export_tflite\n",
    "import matplotlib.pyplot as plt\n",
    "import numpy as np\n",
    "plt.style.use(\"ggplot\")\n",
    "\n",
    "IMAGE_SIZE = (64, 64)\n",
    "\n",
    "model = get_model(IMAGE_SIZE)"
   ]
  },
  {
   "cell_type": "code",
   "execution_count": null,
   "metadata": {
    "pycharm": {
     "name": "#%%\n"
    }
   },
   "outputs": [],
   "source": [
    "model.summary()"
   ]
  },
  {
   "cell_type": "code",
   "execution_count": null,
   "metadata": {
    "pycharm": {
     "name": "#%%\n"
    }
   },
   "outputs": [],
   "source": [
    "synth = \"./data/analog_clocks/label.csv\"\n",
    "\n",
    "X_train_synth, y_train_synth = load_synthethic_data(Path(synth), IMAGE_SIZE, n_samples=500)"
   ]
  },
  {
   "cell_type": "code",
   "execution_count": null,
   "metadata": {
    "pycharm": {
     "name": "#%%\n"
    }
   },
   "outputs": [],
   "source": [
    "y_train_synth"
   ]
  },
  {
   "cell_type": "code",
   "execution_count": null,
   "metadata": {
    "pycharm": {
     "name": "#%%\n"
    }
   },
   "outputs": [],
   "source": [
    "X_train, y_train = load_data(\n",
    "        Path(\"./data/watch-time-train/labels.csv\"),\n",
    "        IMAGE_SIZE,\n",
    ")\n",
    "X_val, y_val = load_data(\n",
    "        Path(\"./data/watch-time-validation/labels.csv\"),\n",
    "        IMAGE_SIZE,\n",
    ")"
   ]
  },
  {
   "cell_type": "code",
   "execution_count": null,
   "metadata": {
    "pycharm": {
     "name": "#%%\n"
    }
   },
   "outputs": [],
   "source": [
    "X_train = np.vstack((X_train, X_train_synth))"
   ]
  },
  {
   "cell_type": "code",
   "execution_count": null,
   "metadata": {
    "pycharm": {
     "name": "#%%\n"
    }
   },
   "outputs": [],
   "source": [
    "y_train = pd.concat((y_train, y_train_synth))"
   ]
  },
  {
   "cell_type": "code",
   "execution_count": null,
   "metadata": {
    "pycharm": {
     "name": "#%%\n"
    }
   },
   "outputs": [],
   "source": [
    "y_train"
   ]
  },
  {
   "cell_type": "code",
   "execution_count": null,
   "metadata": {
    "pycharm": {
     "name": "#%%\n"
    }
   },
   "outputs": [],
   "source": [
    "len(y_train), len(X_train)"
   ]
  },
  {
   "cell_type": "code",
   "execution_count": null,
   "metadata": {
    "pycharm": {
     "name": "#%%\n"
    }
   },
   "outputs": [],
   "source": [
    "len(y_val), len(X_val)"
   ]
  },
  {
   "cell_type": "code",
   "execution_count": null,
   "metadata": {
    "pycharm": {
     "name": "#%%\n"
    }
   },
   "outputs": [],
   "source": [
    "# y_train['minute'].hist(bins=60)"
   ]
  },
  {
   "cell_type": "code",
   "execution_count": null,
   "metadata": {
    "pycharm": {
     "name": "#%%\n"
    }
   },
   "outputs": [],
   "source": [
    "y_train['hour'].hist(bins=12)"
   ]
  },
  {
   "cell_type": "code",
   "execution_count": null,
   "metadata": {
    "pycharm": {
     "name": "#%%\n"
    }
   },
   "outputs": [],
   "source": [
    "# X_train, y_train = unison_shuffled_copies(X_train, y_train)\n",
    "\n",
    "y_train = preprocess_targets(y_train)\n",
    "y_val = preprocess_targets(y_val)"
   ]
  },
  {
   "cell_type": "code",
   "execution_count": null,
   "metadata": {
    "pycharm": {
     "name": "#%%\n"
    }
   },
   "outputs": [],
   "source": [
    "import matplotlib.pyplot as plt\n",
    "# plt.hist(y_train['minute'], bins=60)"
   ]
  },
  {
   "cell_type": "code",
   "execution_count": null,
   "metadata": {
    "pycharm": {
     "name": "#%%\n"
    }
   },
   "outputs": [],
   "source": [
    "plt.hist(y_train['hour'], bins=12)"
   ]
  },
  {
   "cell_type": "code",
   "execution_count": null,
   "metadata": {
    "pycharm": {
     "name": "#%%\n"
    }
   },
   "outputs": [],
   "source": [
    "EPOCHS = 200\n",
    "model.fit(X_train, y_train,\n",
    "          epochs=EPOCHS,\n",
    "          batch_size=64,\n",
    "          validation_data=(X_val, y_val),\n",
    "          callbacks=[\n",
    "              tf.keras.callbacks.EarlyStopping(\n",
    "                      monitor='val_loss',\n",
    "                      patience=50,\n",
    "                      restore_best_weights=True,\n",
    "              )\n",
    "          ],\n",
    "          )"
   ]
  },
  {
   "cell_type": "code",
   "execution_count": null,
   "metadata": {
    "pycharm": {
     "name": "#%%\n"
    }
   },
   "outputs": [],
   "source": [
    "\n",
    "H = model.history\n",
    "lossNames = [hi for hi in H.history.keys() if \"val\" not in hi]\n",
    "\n",
    "(fig, ax) = plt.subplots(len(lossNames), 1, figsize=(16, 9))\n",
    "# loop over the loss names\n",
    "for (i, l) in enumerate(lossNames):\n",
    "    # plot the loss for both the training and validation data\n",
    "    title = \"Loss for {}\".format(l) if l != \"loss\" else \"Total loss\"\n",
    "    ax[i].set_title(title)\n",
    "    ax[i].set_xlabel(\"Epoch #\")\n",
    "    ax[i].set_ylabel(\"Loss\")\n",
    "    n_steps = len(H.history[l])\n",
    "    ax[i].plot(np.arange(0, n_steps), H.history[l], label=l)\n",
    "    ax[i].plot(np.arange(0, n_steps), H.history[\"val_\" + l], label=\"val_\" + l)\n",
    "    ax[i].legend()\n",
    "# save the losses figure\n",
    "# plt.tight_layout()"
   ]
  },
  {
   "cell_type": "code",
   "execution_count": null,
   "metadata": {
    "pycharm": {
     "name": "#%%\n"
    }
   },
   "outputs": [],
   "source": [
    "from watch_recognition.reports import generate_report\n",
    "_ = generate_report(X_train, y_train, model)"
   ]
  },
  {
   "cell_type": "code",
   "execution_count": null,
   "metadata": {
    "pycharm": {
     "name": "#%%\n"
    }
   },
   "outputs": [],
   "source": [
    "_ = generate_report(X_val, y_val, model)\n",
    "\n"
   ]
  },
  {
   "cell_type": "code",
   "execution_count": null,
   "metadata": {
    "pycharm": {
     "name": "#%%\n"
    }
   },
   "outputs": [],
   "source": [
    "from watch_recognition.reports import predict_on_image\n",
    "\n",
    "predict_on_image(\"test-image-2.jpg\", model)"
   ]
  },
  {
   "cell_type": "code",
   "execution_count": null,
   "metadata": {
    "pycharm": {
     "name": "#%%\n"
    }
   },
   "outputs": [],
   "source": [
    "# export_tflite(model, \"regression.tflite\")"
   ]
  },
  {
   "cell_type": "code",
   "execution_count": null,
   "metadata": {
    "pycharm": {
     "name": "#%%\n"
    }
   },
   "outputs": [],
   "source": [
    "x = np.linspace(-3 ,3)\n",
    "v = np.tanh(x)*2\n",
    "plt.plot(x, v)"
   ]
  },
  {
   "cell_type": "code",
   "execution_count": null,
   "metadata": {
    "pycharm": {
     "name": "#%%\n"
    }
   },
   "outputs": [],
   "source": [
    "x = np.linspace(-3 ,3, num=100)\n",
    "v = np.clip((np.tanh(x)*2 * 20) + 6, 1 ,12)\n",
    "plt.plot(x, v)\n",
    "plt.vlines(0, 1, 12)"
   ]
  },
  {
   "cell_type": "code",
   "execution_count": null,
   "metadata": {
    "pycharm": {
     "name": "#%%\n"
    }
   },
   "outputs": [],
   "source": [
    "x = np.linspace(-2 ,2)\n",
    "val = np.round((x * 20) + 6)\n",
    "plt.plot(x, val)"
   ]
  },
  {
   "cell_type": "code",
   "execution_count": null,
   "metadata": {
    "pycharm": {
     "name": "#%%\n"
    }
   },
   "outputs": [],
   "source": [
    "# import pandas as pd\n",
    "# data = pd.read_csv(\"./data/watch-time-train/labels.csv\")\n",
    "# data.to_csv(\"./data/watch-time-train/labels.csv\")"
   ]
  }
 ],
 "metadata": {
  "kernelspec": {
   "display_name": "Python (tf-watch)",
   "language": "python",
   "name": "tf-watch"
  },
  "language_info": {
   "codemirror_mode": {
    "name": "ipython",
    "version": 2
   },
   "file_extension": ".py",
   "mimetype": "text/x-python",
   "name": "python",
   "nbconvert_exporter": "python",
   "pygments_lexer": "ipython2",
   "version": "2.7.6"
  }
 },
 "nbformat": 4,
 "nbformat_minor": 0
}
