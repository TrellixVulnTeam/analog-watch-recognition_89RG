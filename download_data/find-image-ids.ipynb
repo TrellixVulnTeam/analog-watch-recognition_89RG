{
 "cells": [
  {
   "cell_type": "code",
   "execution_count": null,
   "metadata": {},
   "outputs": [],
   "source": [
    "import pandas as pd\n",
    "class_name = '/m/0gjkl'\n",
    "file_path_template = \"./OID/v6/csv/full/{}-annotations-bbox.csv\"\n",
    "for split in ['test', 'validation','train']:\n",
    "    file_path = file_path_template.format(split)\n",
    "    df = pd.read_csv(file_path)\n",
    "    filtered_df = df[df['LabelName'] == class_name]\n",
    "    image_ids = set(filtered_df['ImageID'].values)\n",
    "    print(split, len(image_ids))\n",
    "    with open(f\"{split}_image_ids.txt\", 'w') as f:\n",
    "        for image_id in image_ids:\n",
    "            print(f\"{split}/{image_id}\", file=f)"
   ]
  }
 ],
 "metadata": {
  "kernelspec": {
   "display_name": "Python (tf-watch-metal)",
   "language": "python",
   "name": "tf-watch-metal"
  },
  "language_info": {
   "codemirror_mode": {
    "name": "ipython",
    "version": 2
   },
   "file_extension": ".py",
   "mimetype": "text/x-python",
   "name": "python",
   "nbconvert_exporter": "python",
   "pygments_lexer": "ipython2",
   "version": "2.7.6"
  }
 },
 "nbformat": 4,
 "nbformat_minor": 0
}
