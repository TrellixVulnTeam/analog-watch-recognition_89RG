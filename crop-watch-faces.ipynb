{
 "cells": [
  {
   "cell_type": "code",
   "execution_count": null,
   "metadata": {
    "pycharm": {
     "name": "#%%\n"
    }
   },
   "outputs": [],
   "source": [
    "from pathlib import Path\n",
    "import json\n",
    "from dataclasses import dataclass\n",
    "from IPython.display import display, clear_output\n",
    "from PIL import Image\n",
    "\n",
    "\n",
    "@dataclass(frozen=True)\n",
    "class BBox:\n",
    "    xmin: float\n",
    "    ymin: float\n",
    "    xmax: float\n",
    "    ymax: float\n",
    "\n",
    "    @classmethod\n",
    "    def from_ltrb(cls, l, t, r, b):\n",
    "        return cls(l, t, r, b)\n",
    "\n",
    "    @classmethod\n",
    "    def from_ltwh(cls, l, t, w, h):\n",
    "        return cls(l, t, l + w, t + h)\n",
    "\n",
    "    @classmethod\n",
    "    def from_center_wh(cls, xc, yc, w, h):\n",
    "        return cls(xc-w/2, yc-w/2, xc + w/2, yc + h/2)\n",
    "\n",
    "    def __iter__(self):\n",
    "        self_tuple = (self.xmin, self.ymin, self.xmax, self.ymax)\n",
    "        yield from self_tuple\n",
    "\n",
    "    @property\n",
    "    def center(self):\n",
    "        return (self.xmin + self.xmax) / 2, (self.ymin + self.ymax) / 2\n",
    "\n",
    "    @property\n",
    "    def size(self):\n",
    "        return (- self.xmin + self.xmax), (-self.ymin + self.ymax)\n",
    "\n",
    "    @property\n",
    "    def as_center_wh(self):\n",
    "        return (*self.center, *self.size)\n",
    "\n",
    "    def scale(self, x: float = 1, y: float = 1):\n",
    "        c = self.center\n",
    "        w, h = self.size\n",
    "        w *= x\n",
    "        h *= y\n",
    "        return BBox.from_center_wh(*c, w, h)\n",
    "\n",
    "fold = \"test\"\n",
    "source_dir = Path(f\"./data/annotations-{fold}\")\n",
    "save_dir = Path(f\"./data/watch-time-{fold}\")\n",
    "save_dir.mkdir(exist_ok=True)\n",
    "img_dir = Path(f\"./data/{fold}\")\n",
    "records = {}\n",
    "asset_files = list(source_dir.glob(\"*.json\"))\n",
    "print(asset_files[0])\n",
    "skipped = set()"
   ]
  },
  {
   "cell_type": "code",
   "execution_count": null,
   "metadata": {
    "pycharm": {
     "name": "#%%\n"
    }
   },
   "outputs": [],
   "source": [
    "for i, file in enumerate(asset_files):\n",
    "    with file.open('r') as f:\n",
    "        data = json.load(f)\n",
    "    image_name = data['asset']['name']\n",
    "    regions = data['regions']\n",
    "    watch_faces = [region for region in regions if 'watch-face' in region['tags']]\n",
    "    for watch_face in watch_faces:\n",
    "        region_id = watch_face['id']\n",
    "        bbox = watch_face['boundingBox']\n",
    "        l, t = bbox['left'], bbox['top']\n",
    "        w, h = bbox['width'], bbox['height']\n",
    "        box = BBox.from_ltwh(l,t,w,h)\n",
    "\n",
    "        with Image.open(img_dir / image_name) as img:\n",
    "            filename = f\"{region_id}.jpg\"\n",
    "            crop = img.crop(tuple(map(int, box.scale(1.0,1.0))))\n",
    "            time = None\n",
    "            if (save_dir / filename).exists() or image_name in skipped:\n",
    "                continue\n",
    "            crop_copy = crop.copy()\n",
    "            while time is None:\n",
    "                display(crop_copy)\n",
    "                decision = input()\n",
    "                if decision=='skip':\n",
    "                    time = -1\n",
    "                    skipped.add(image_name)\n",
    "                elif decision=='redo':\n",
    "                    crop_copy = crop.copy()\n",
    "                elif 'r' in decision:\n",
    "                    angle = int(decision.split(':')[1])\n",
    "                    crop_copy = crop_copy.rotate(angle)\n",
    "\n",
    "                else:\n",
    "                    time = decision.split(\":\")\n",
    "                clear_output()\n",
    "            if time != -1:\n",
    "                \n",
    "                records[filename] = {\n",
    "                    'region_id': region_id,\n",
    "                    'hour':int(time[0]),\n",
    "                    'minute':int(time[1]),\n",
    "                    \"filename\": filename\n",
    "                }\n",
    "                crop_copy.save(save_dir / filename)"
   ]
  },
  {
   "cell_type": "code",
   "execution_count": null,
   "metadata": {},
   "outputs": [],
   "source": [
    "len(records)"
   ]
  },
  {
   "cell_type": "code",
   "execution_count": null,
   "metadata": {
    "pycharm": {
     "name": "#%%\n"
    }
   },
   "outputs": [],
   "source": [
    "import pandas as pd\n",
    "df = pd.DataFrame(list(records.values()))"
   ]
  },
  {
   "cell_type": "code",
   "execution_count": null,
   "metadata": {
    "pycharm": {
     "name": "#%%\n"
    }
   },
   "outputs": [],
   "source": [
    "df"
   ]
  },
  {
   "cell_type": "code",
   "execution_count": null,
   "metadata": {},
   "outputs": [],
   "source": [
    "df.to_csv(save_dir / 'labels.csv', index=False)"
   ]
  },
  {
   "cell_type": "code",
   "execution_count": null,
   "metadata": {},
   "outputs": [],
   "source": [
    "df['minute'].hist(bins=60)"
   ]
  },
  {
   "cell_type": "code",
   "execution_count": null,
   "metadata": {},
   "outputs": [],
   "source": [
    "df['hour'].hist(bins=12)"
   ]
  },
  {
   "cell_type": "code",
   "execution_count": null,
   "metadata": {},
   "outputs": [],
   "source": []
  }
 ],
 "metadata": {
  "kernelspec": {
   "display_name": "Python (tf-watch)",
   "language": "python",
   "name": "tf-watch"
  },
  "language_info": {
   "codemirror_mode": {
    "name": "ipython",
    "version": 3
   },
   "file_extension": ".py",
   "mimetype": "text/x-python",
   "name": "python",
   "nbconvert_exporter": "python",
   "pygments_lexer": "ipython3",
   "version": "3.7.5"
  }
 },
 "nbformat": 4,
 "nbformat_minor": 1
}
