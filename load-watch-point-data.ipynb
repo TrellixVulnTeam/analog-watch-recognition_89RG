{
 "cells": [
  {
   "cell_type": "code",
   "execution_count": null,
   "metadata": {},
   "outputs": [],
   "source": [
    "import pandas as pd\n",
    "import json\n",
    "from pathlib import Path"
   ]
  },
  {
   "cell_type": "code",
   "execution_count": null,
   "metadata": {
    "pycharm": {
     "name": "#%%\n"
    }
   },
   "outputs": [],
   "source": [
    "source_dir = Path(\"./data/watch-points\")\n",
    "all_images = list(source_dir.rglob(\"*.jp*g\"))\n",
    "assert all_images"
   ]
  },
  {
   "cell_type": "code",
   "execution_count": null,
   "metadata": {
    "pycharm": {
     "name": "#%%\n"
    }
   },
   "outputs": [],
   "source": [
    "image_records = []\n",
    "for image in all_images:\n",
    "    image_records.append({\n",
    "        'split': image.parent.name,\n",
    "        'path': str(image),\n",
    "        'image_name': image.name,\n",
    "    })\n",
    "images_df = pd.DataFrame(image_records)"
   ]
  },
  {
   "cell_type": "code",
   "execution_count": null,
   "metadata": {
    "pycharm": {
     "name": "#%%\n"
    }
   },
   "outputs": [],
   "source": [
    "with (source_dir/\"project-1-at-2021-08-19-19-11-8495273e.json\").open('r') as f:\n",
    "\n",
    "    tag_data = json.load(f)"
   ]
  },
  {
   "cell_type": "code",
   "execution_count": null,
   "metadata": {
    "pycharm": {
     "name": "#%%\n"
    }
   },
   "outputs": [],
   "source": [
    "tag_records = []\n",
    "for tag in tag_data:\n",
    "    for entry in tag['tag']:\n",
    "        if \"yOXpwtbf5\" in tag['image']:\n",
    "            print(entry)\n",
    "        tag_records.append({\n",
    "            \"image_name\": \"_\".join(Path(tag['image']).name.split(\"_\")[:-1])+'.jpg',\n",
    "            'tag_name': entry['keypointlabels'][0],\n",
    "            'x': entry['x'] / 100,\n",
    "            'y': entry['y'] / 100,\n",
    "        })\n",
    "tags_df=pd.DataFrame(tag_records)"
   ]
  },
  {
   "cell_type": "code",
   "execution_count": null,
   "metadata": {
    "pycharm": {
     "name": "#%%\n"
    }
   },
   "outputs": [],
   "source": [
    "tags_df"
   ]
  },
  {
   "cell_type": "code",
   "execution_count": null,
   "metadata": {
    "pycharm": {
     "name": "#%%\n"
    }
   },
   "outputs": [],
   "source": [
    "images_df"
   ]
  },
  {
   "cell_type": "code",
   "execution_count": null,
   "metadata": {
    "pycharm": {
     "name": "#%%\n"
    }
   },
   "outputs": [],
   "source": [
    "merged_data = pd.merge(pd.DataFrame(tag_records), images_df, on='image_name')\n",
    "merged_data.to_csv(source_dir/\"tags.csv\", index=False)"
   ]
  },
  {
   "cell_type": "code",
   "execution_count": null,
   "metadata": {
    "pycharm": {
     "name": "#%%\n"
    }
   },
   "outputs": [],
   "source": [
    "merged_data[merged_data['image_name']=='yOXpwtbf5.jpg']"
   ]
  }
 ],
 "metadata": {
  "kernelspec": {
   "display_name": "Python (tf-watch-metal)",
   "language": "python",
   "name": "tf-watch-metal"
  },
  "language_info": {
   "codemirror_mode": {
    "name": "ipython",
    "version": 2
   },
   "file_extension": ".py",
   "mimetype": "text/x-python",
   "name": "python",
   "nbconvert_exporter": "python",
   "pygments_lexer": "ipython2",
   "version": "2.7.6"
  }
 },
 "nbformat": 4,
 "nbformat_minor": 0
}
